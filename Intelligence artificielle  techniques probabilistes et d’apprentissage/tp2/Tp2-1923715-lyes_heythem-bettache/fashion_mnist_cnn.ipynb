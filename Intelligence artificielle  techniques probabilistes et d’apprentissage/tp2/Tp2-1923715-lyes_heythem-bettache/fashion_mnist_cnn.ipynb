{
 "cells": [
  {
   "cell_type": "code",
   "execution_count": 1,
   "metadata": {
    "colab": {},
    "colab_type": "code",
    "id": "hTLbA9xgDPce"
   },
   "outputs": [
    {
     "name": "stderr",
     "output_type": "stream",
     "text": [
      "Using TensorFlow backend.\n"
     ]
    }
   ],
   "source": [
    "# import essentials\n",
    "import numpy as np\n",
    "import pandas as pd\n",
    "import matplotlib.image as mpim\n",
    "import matplotlib.pyplot as plt\n",
    "from sklearn.metrics import accuracy_score\n",
    "%matplotlib inline\n",
    "\n",
    "#import dataset\n",
    "from keras.datasets import fashion_mnist\n",
    "\n",
    "\n",
    "\n",
    "\n",
    "from keras import backend as K\n",
    "K.set_image_dim_ordering('th')\n",
    "from keras.utils import np_utils\n",
    "from sklearn.model_selection import train_test_split\n",
    "from keras.models import Sequential\n",
    "from keras.layers import Dense, Reshape, InputLayer, Flatten, Dropout\n",
    "from keras.layers.convolutional import Conv2D, MaxPooling2D\n",
    "from keras import optimizers\n",
    "from keras.layers.normalization import BatchNormalization"
   ]
  },
  {
   "cell_type": "code",
   "execution_count": 2,
   "metadata": {
    "colab": {
     "base_uri": "https://localhost:8080/",
     "height": 52
    },
    "colab_type": "code",
    "id": "6qmCtIVtCesh",
    "outputId": "80d8597f-eeac-4d14-c889-225c261e6890"
   },
   "outputs": [],
   "source": [
    "(x_train, y_train), (x_test, y_test) = fashion_mnist.load_data()"
   ]
  },
  {
   "cell_type": "code",
   "execution_count": 3,
   "metadata": {
    "colab": {
     "base_uri": "https://localhost:8080/",
     "height": 52
    },
    "colab_type": "code",
    "id": "6GSsioLcCvCt",
    "outputId": "b0c7789e-462a-42e2-f020-4cbf7dbcbf0e"
   },
   "outputs": [
    {
     "name": "stdout",
     "output_type": "stream",
     "text": [
      "Training size: 60000\n",
      "Testing size: 10000\n"
     ]
    }
   ],
   "source": [
    "print(\"Training size:\",y_train.size)\n",
    "print(\"Testing size:\",y_test.size)"
   ]
  },
  {
   "cell_type": "code",
   "execution_count": 4,
   "metadata": {
    "colab": {
     "base_uri": "https://localhost:8080/",
     "height": 282
    },
    "colab_type": "code",
    "id": "wEqjnJe-CjAF",
    "outputId": "3fea4d5d-f7e5-4030-879a-cecd7e527df7"
   },
   "outputs": [
    {
     "data": {
      "text/plain": [
       "<matplotlib.image.AxesImage at 0x1c3f409bfd0>"
      ]
     },
     "execution_count": 4,
     "metadata": {},
     "output_type": "execute_result"
    },
    {
     "data": {
      "image/png": "[encoded data removed]",
      "text/plain": [
       "<Figure size 432x288 with 1 Axes>"
      ]
     },
     "metadata": {
      "needs_background": "light"
     },
     "output_type": "display_data"
    }
   ],
   "source": [
    "index = np.random.randint(10000)\n",
    "img = x_train[index]\n",
    "plt.imshow(img, cmap='gray')"
   ]
  },
  {
   "cell_type": "code",
   "execution_count": 5,
   "metadata": {
    "colab": {},
    "colab_type": "code",
    "id": "dn3cPnkTDKbv"
   },
   "outputs": [],
   "source": [
    "#The input is a 1D-vector we transform it to a 2D-matrix\n",
    "train_features = x_train.reshape((x_train.shape[0], 1, 28, 28))\n",
    "test_features = x_test.reshape((x_test.shape[0], 1, 28, 28))"
   ]
  },
  {
   "cell_type": "code",
   "execution_count": 6,
   "metadata": {
    "colab": {},
    "colab_type": "code",
    "id": "x-pUm2dNETik"
   },
   "outputs": [],
   "source": [
    "train_labels = np_utils.to_categorical(y_train)\n",
    "\n",
    "# divide data into training and validation set\n",
    "train_features, validation_features, train_labels, validation_labels = train_test_split(train_features, train_labels, \n",
    "                                                                           test_size=0.15, random_state=80)"
   ]
  },
  {
   "cell_type": "code",
   "execution_count": 7,
   "metadata": {
    "colab": {
     "base_uri": "https://localhost:8080/",
     "height": 52
    },
    "colab_type": "code",
    "id": "ShTavOCkEllc",
    "outputId": "845497b7-3a4e-4b39-970a-61573be65a37"
   },
   "outputs": [
    {
     "name": "stdout",
     "output_type": "stream",
     "text": [
      "Training size: 510000\n",
      "Validation size: 90000\n"
     ]
    }
   ],
   "source": [
    "print(\"Training size:\",train_labels.size)\n",
    "print(\"Validation size:\",validation_labels.size)"
   ]
  },
  {
   "cell_type": "code",
   "execution_count": null,
   "metadata": {},
   "outputs": [],
   "source": []
  },
  {
   "cell_type": "markdown",
   "metadata": {},
   "source": [
    "# Expérience 1:"
   ]
  },
  {
   "cell_type": "code",
   "execution_count": 34,
   "metadata": {},
   "outputs": [
    {
     "name": "stdout",
     "output_type": "stream",
     "text": [
      "_________________________________________________________________\n",
      "Layer (type)                 Output Shape              Param #   \n",
      "=================================================================\n",
      "batch_normalization_10 (Batc (None, 1, 28, 28)         112       \n",
      "_________________________________________________________________\n",
      "flatten_5 (Flatten)          (None, 784)               0         \n",
      "_________________________________________________________________\n",
      "dense_18 (Dense)             (None, 512)               401920    \n",
      "_________________________________________________________________\n",
      "dense_19 (Dense)             (None, 256)               131328    \n",
      "_________________________________________________________________\n",
      "dense_20 (Dense)             (None, 128)               32896     \n",
      "_________________________________________________________________\n",
      "dense_21 (Dense)             (None, 64)                8256      \n",
      "_________________________________________________________________\n",
      "dense_22 (Dense)             (None, 10)                650       \n",
      "=================================================================\n",
      "Total params: 575,162\n",
      "Trainable params: 575,106\n",
      "Non-trainable params: 56\n",
      "_________________________________________________________________\n",
      "None\n"
     ]
    }
   ],
   "source": [
    "# hyperparameters\n",
    "epochs = 10\n",
    "batch_size = 200\n",
    "\n",
    "# build model2\n",
    "n_classes = 10\n",
    "model = Sequential()\n",
    "\n",
    "\n",
    "# input layer\n",
    "model.add(InputLayer(input_shape=(1, 28, 28)))\n",
    "\n",
    "#normalisation\n",
    "model.add(BatchNormalization())\n",
    "\n",
    "#Layer 1&2&3&4\n",
    "model.add(Flatten())\n",
    "model.add(Dense(units=512, activation='relu'  ))\n",
    "model.add(Dense(units=256, activation='relu'  ))\n",
    "model.add(Dense(units=128, activation='relu'  ))\n",
    "\n",
    "model.add(Dense(units=64, activation='relu'  ))\n",
    "\n",
    "model.add(Dense(n_classes, activation='softmax'))\n",
    "\n",
    "print(model.summary())"
   ]
  },
  {
   "cell_type": "code",
   "execution_count": 35,
   "metadata": {},
   "outputs": [],
   "source": [
    "# compile the model\n",
    "model.compile(optimizer= 'Adam',\n",
    "              loss='categorical_crossentropy',\n",
    "              metrics=['accuracy'])"
   ]
  },
  {
   "cell_type": "code",
   "execution_count": 36,
   "metadata": {},
   "outputs": [
    {
     "name": "stdout",
     "output_type": "stream",
     "text": [
      "Train on 51000 samples, validate on 9000 samples\n",
      "Epoch 1/10\n",
      "51000/51000 [==============================] - 8s 164us/step - loss: 0.4789 - acc: 0.8292 - val_loss: 0.3730 - val_acc: 0.8650\n",
      "Epoch 2/10\n",
      "51000/51000 [==============================] - 8s 156us/step - loss: 0.3339 - acc: 0.8777 - val_loss: 0.3405 - val_acc: 0.8758\n",
      "Epoch 3/10\n",
      "51000/51000 [==============================] - 8s 163us/step - loss: 0.2930 - acc: 0.8912 - val_loss: 0.3143 - val_acc: 0.8864\n",
      "Epoch 4/10\n",
      "51000/51000 [==============================] - 8s 153us/step - loss: 0.2617 - acc: 0.9022 - val_loss: 0.3126 - val_acc: 0.8856\n",
      "Epoch 5/10\n",
      "51000/51000 [==============================] - 8s 152us/step - loss: 0.2392 - acc: 0.9098 - val_loss: 0.3209 - val_acc: 0.8840\n",
      "Epoch 6/10\n",
      "51000/51000 [==============================] - 8s 152us/step - loss: 0.2191 - acc: 0.9183 - val_loss: 0.3100 - val_acc: 0.8884\n",
      "Epoch 7/10\n",
      "51000/51000 [==============================] - 8s 150us/step - loss: 0.2017 - acc: 0.9235 - val_loss: 0.3193 - val_acc: 0.8899\n",
      "Epoch 8/10\n",
      "51000/51000 [==============================] - 8s 152us/step - loss: 0.1832 - acc: 0.9309 - val_loss: 0.3109 - val_acc: 0.8913\n",
      "Epoch 9/10\n",
      "51000/51000 [==============================] - 8s 151us/step - loss: 0.1721 - acc: 0.9354 - val_loss: 0.3136 - val_acc: 0.8927\n",
      "Epoch 10/10\n",
      "51000/51000 [==============================] - 8s 154us/step - loss: 0.1593 - acc: 0.9404 - val_loss: 0.3292 - val_acc: 0.8942\n"
     ]
    }
   ],
   "source": [
    "training = model.fit(train_features, train_labels,\n",
    "                     validation_data=(validation_features, validation_labels),\n",
    "                     epochs=epochs,\n",
    "                     batch_size=batch_size, \n",
    "                     verbose=1)"
   ]
  },
  {
   "cell_type": "code",
   "execution_count": 37,
   "metadata": {},
   "outputs": [
    {
     "data": {
      "image/png": "[encoded data removed]",
      "text/plain": [
       "<Figure size 432x288 with 1 Axes>"
      ]
     },
     "metadata": {
      "needs_background": "light"
     },
     "output_type": "display_data"
    },
    {
     "data": {
      "image/png": "[encoded data removed]",
      "text/plain": [
       "<Figure size 432x288 with 1 Axes>"
      ]
     },
     "metadata": {
      "needs_background": "light"
     },
     "output_type": "display_data"
    }
   ],
   "source": [
    "# show the loss and accuracy\n",
    "loss = training.history['loss']\n",
    "val_loss = training.history['val_loss']\n",
    "acc = training.history['acc']\n",
    "val_acc = training.history['val_acc']\n",
    "\n",
    "# loss plot\n",
    "tra = plt.plot(loss)\n",
    "val = plt.plot(val_loss, 'r')\n",
    "plt.xlabel('Epochs')\n",
    "plt.ylabel('Loss')\n",
    "plt.title('Loss')\n",
    "plt.legend([\"Training\", \"Validation\"])\n",
    "\n",
    "plt.show()\n",
    "\n",
    "# accuracy plot\n",
    "plt.plot(acc)\n",
    "plt.plot(val_acc, 'r')\n",
    "plt.xlabel('Epochs')\n",
    "plt.ylabel('Accuracy')\n",
    "plt.title('Accuracy')\n",
    "plt.legend(['Training', 'Validation'], loc=4)\n",
    "plt.show()"
   ]
  },
  {
   "cell_type": "code",
   "execution_count": 38,
   "metadata": {},
   "outputs": [],
   "source": [
    "test_labels = y_test\n",
    "pred = model.predict(test_features)\n",
    "# convert predicions from categorical back to 0...9 digits\n",
    "pred_digits = np.argmax(pred, axis=1)"
   ]
  },
  {
   "cell_type": "code",
   "execution_count": 39,
   "metadata": {},
   "outputs": [
    {
     "data": {
      "text/plain": [
       "0.8862"
      ]
     },
     "execution_count": 39,
     "metadata": {},
     "output_type": "execute_result"
    }
   ],
   "source": [
    "accuracy_score(test_labels, pred_digits)"
   ]
  },
  {
   "cell_type": "markdown",
   "metadata": {},
   "source": [
    "# Expérience 2 "
   ]
  },
  {
   "cell_type": "code",
   "execution_count": 44,
   "metadata": {},
   "outputs": [
    {
     "name": "stdout",
     "output_type": "stream",
     "text": [
      "_________________________________________________________________\n",
      "Layer (type)                 Output Shape              Param #   \n",
      "=================================================================\n",
      "batch_normalization_12 (Batc (None, 1, 28, 28)         112       \n",
      "_________________________________________________________________\n",
      "flatten_8 (Flatten)          (None, 784)               0         \n",
      "_________________________________________________________________\n",
      "dense_33 (Dense)             (None, 512)               401920    \n",
      "_________________________________________________________________\n",
      "dropout_11 (Dropout)         (None, 512)               0         \n",
      "_________________________________________________________________\n",
      "dense_34 (Dense)             (None, 256)               131328    \n",
      "_________________________________________________________________\n",
      "dropout_12 (Dropout)         (None, 256)               0         \n",
      "_________________________________________________________________\n",
      "dense_35 (Dense)             (None, 128)               32896     \n",
      "_________________________________________________________________\n",
      "dropout_13 (Dropout)         (None, 128)               0         \n",
      "_________________________________________________________________\n",
      "dense_36 (Dense)             (None, 64)                8256      \n",
      "_________________________________________________________________\n",
      "dropout_14 (Dropout)         (None, 64)                0         \n",
      "_________________________________________________________________\n",
      "dense_37 (Dense)             (None, 10)                650       \n",
      "=================================================================\n",
      "Total params: 575,162\n",
      "Trainable params: 575,106\n",
      "Non-trainable params: 56\n",
      "_________________________________________________________________\n",
      "None\n"
     ]
    }
   ],
   "source": [
    "# hyperparameters\n",
    "epochs = 10\n",
    "batch_size = 200\n",
    "\n",
    "# build model2\n",
    "n_classes = 10\n",
    "model = Sequential()\n",
    "\n",
    "\n",
    "# input layer\n",
    "model.add(InputLayer(input_shape=(1, 28, 28)))\n",
    "#normalisation\n",
    "model.add(BatchNormalization())\n",
    "\n",
    "#Layer 1&2&3&4\n",
    "model.add(Flatten())\n",
    "model.add(Dense(units=512, activation='relu'  ))\n",
    "model.add(Dropout(0.35))\n",
    "model.add(Dense(units=256, activation='relu'  ))\n",
    "model.add(Dropout(0.35))\n",
    "model.add(Dense(units=128, activation='relu'  ))\n",
    "model.add(Dropout(0.35))\n",
    "model.add(Dense(units=64, activation='relu'  ))\n",
    "model.add(Dropout(0.35))\n",
    "model.add(Dense(n_classes, activation='softmax'))\n",
    "\n",
    "print(model.summary())"
   ]
  },
  {
   "cell_type": "code",
   "execution_count": 45,
   "metadata": {},
   "outputs": [],
   "source": [
    "# compile the model\n",
    "model.compile(optimizer= 'Adam',\n",
    "              loss='categorical_crossentropy',\n",
    "              metrics=['accuracy'])"
   ]
  },
  {
   "cell_type": "code",
   "execution_count": 46,
   "metadata": {},
   "outputs": [
    {
     "name": "stdout",
     "output_type": "stream",
     "text": [
      "Train on 51000 samples, validate on 9000 samples\n",
      "Epoch 1/10\n",
      "51000/51000 [==============================] - 9s 184us/step - loss: 0.8284 - acc: 0.7125 - val_loss: 0.4364 - val_acc: 0.8463\n",
      "Epoch 2/10\n",
      "51000/51000 [==============================] - 8s 164us/step - loss: 0.5239 - acc: 0.8252 - val_loss: 0.3894 - val_acc: 0.8584\n",
      "Epoch 3/10\n",
      "51000/51000 [==============================] - 8s 166us/step - loss: 0.4614 - acc: 0.8446 - val_loss: 0.3661 - val_acc: 0.8688\n",
      "Epoch 4/10\n",
      "51000/51000 [==============================] - 9s 167us/step - loss: 0.4222 - acc: 0.8558 - val_loss: 0.3627 - val_acc: 0.8656\n",
      "Epoch 5/10\n",
      "51000/51000 [==============================] - 9s 169us/step - loss: 0.3998 - acc: 0.8638 - val_loss: 0.3524 - val_acc: 0.8751\n",
      "Epoch 6/10\n",
      "51000/51000 [==============================] - 8s 166us/step - loss: 0.3771 - acc: 0.8704 - val_loss: 0.3316 - val_acc: 0.8820\n",
      "Epoch 7/10\n",
      "51000/51000 [==============================] - 9s 168us/step - loss: 0.3597 - acc: 0.8769 - val_loss: 0.3280 - val_acc: 0.8852\n",
      "Epoch 8/10\n",
      "51000/51000 [==============================] - 8s 165us/step - loss: 0.3446 - acc: 0.8796 - val_loss: 0.3261 - val_acc: 0.8851\n",
      "Epoch 9/10\n",
      "51000/51000 [==============================] - 9s 168us/step - loss: 0.3315 - acc: 0.8830 - val_loss: 0.3120 - val_acc: 0.8876\n",
      "Epoch 10/10\n",
      "51000/51000 [==============================] - 9s 167us/step - loss: 0.3286 - acc: 0.8842 - val_loss: 0.3079 - val_acc: 0.8874\n"
     ]
    }
   ],
   "source": [
    "training = model.fit(train_features, train_labels,\n",
    "                     validation_data=(validation_features, validation_labels),\n",
    "                     epochs=epochs,\n",
    "                     batch_size=batch_size, \n",
    "                     verbose=1)"
   ]
  },
  {
   "cell_type": "code",
   "execution_count": 47,
   "metadata": {},
   "outputs": [
    {
     "data": {
      "image/png": "[encoded data removed]",
      "text/plain": [
       "<Figure size 432x288 with 1 Axes>"
      ]
     },
     "metadata": {
      "needs_background": "light"
     },
     "output_type": "display_data"
    },
    {
     "data": {
      "image/png": "[encoded data removed]",
      "text/plain": [
       "<Figure size 432x288 with 1 Axes>"
      ]
     },
     "metadata": {
      "needs_background": "light"
     },
     "output_type": "display_data"
    }
   ],
   "source": [
    "# show the loss and accuracy\n",
    "loss = training.history['loss']\n",
    "val_loss = training.history['val_loss']\n",
    "acc = training.history['acc']\n",
    "val_acc = training.history['val_acc']\n",
    "\n",
    "# loss plot\n",
    "tra = plt.plot(loss)\n",
    "val = plt.plot(val_loss, 'r')\n",
    "plt.xlabel('Epochs')\n",
    "plt.ylabel('Loss')\n",
    "plt.title('Loss')\n",
    "plt.legend([\"Training\", \"Validation\"])\n",
    "\n",
    "plt.show()\n",
    "\n",
    "# accuracy plot\n",
    "plt.plot(acc)\n",
    "plt.plot(val_acc, 'r')\n",
    "plt.xlabel('Epochs')\n",
    "plt.ylabel('Accuracy')\n",
    "plt.title('Accuracy')\n",
    "plt.legend(['Training', 'Validation'], loc=4)\n",
    "plt.show()"
   ]
  },
  {
   "cell_type": "code",
   "execution_count": 48,
   "metadata": {},
   "outputs": [],
   "source": [
    "test_labels = y_test\n",
    "pred = model.predict(test_features)\n",
    "# convert predicions from categorical back to 0...9 digits\n",
    "pred_digits = np.argmax(pred, axis=1)"
   ]
  },
  {
   "cell_type": "code",
   "execution_count": 49,
   "metadata": {},
   "outputs": [
    {
     "data": {
      "text/plain": [
       "0.8767"
      ]
     },
     "execution_count": 49,
     "metadata": {},
     "output_type": "execute_result"
    }
   ],
   "source": [
    "accuracy_score(test_labels, pred_digits)"
   ]
  },
  {
   "cell_type": "markdown",
   "metadata": {},
   "source": [
    "# Expérience 3:"
   ]
  },
  {
   "cell_type": "code",
   "execution_count": 19,
   "metadata": {
    "colab": {
     "base_uri": "https://localhost:8080/",
     "height": 625
    },
    "colab_type": "code",
    "id": "qdp0RkpOEZTB",
    "outputId": "b8091add-48c0-407e-fe61-8de541c92551"
   },
   "outputs": [
    {
     "name": "stdout",
     "output_type": "stream",
     "text": [
      "_________________________________________________________________\n",
      "Layer (type)                 Output Shape              Param #   \n",
      "=================================================================\n",
      "batch_normalization_3 (Batch (None, 1, 28, 28)         112       \n",
      "_________________________________________________________________\n",
      "conv2d_17 (Conv2D)           (None, 40, 28, 28)        1040      \n",
      "_________________________________________________________________\n",
      "max_pooling2d_11 (MaxPooling (None, 40, 14, 14)        0         \n",
      "_________________________________________________________________\n",
      "conv2d_18 (Conv2D)           (None, 70, 14, 14)        25270     \n",
      "_________________________________________________________________\n",
      "conv2d_19 (Conv2D)           (None, 200, 14, 14)       126200    \n",
      "_________________________________________________________________\n",
      "max_pooling2d_12 (MaxPooling (None, 200, 7, 7)         0         \n",
      "_________________________________________________________________\n",
      "conv2d_20 (Conv2D)           (None, 250, 5, 5)         450250    \n",
      "_________________________________________________________________\n",
      "max_pooling2d_13 (MaxPooling (None, 250, 2, 2)         0         \n",
      "_________________________________________________________________\n",
      "flatten_1 (Flatten)          (None, 1000)              0         \n",
      "_________________________________________________________________\n",
      "dense_1 (Dense)              (None, 100)               100100    \n",
      "_________________________________________________________________\n",
      "dense_2 (Dense)              (None, 100)               10100     \n",
      "_________________________________________________________________\n",
      "dense_3 (Dense)              (None, 100)               10100     \n",
      "_________________________________________________________________\n",
      "dense_4 (Dense)              (None, 10)                1010      \n",
      "=================================================================\n",
      "Total params: 724,182\n",
      "Trainable params: 724,126\n",
      "Non-trainable params: 56\n",
      "_________________________________________________________________\n",
      "None\n"
     ]
    }
   ],
   "source": [
    "# hyperparameters\n",
    "epochs = 10\n",
    "batch_size = 200\n",
    "\n",
    "# build model2\n",
    "n_classes = 10\n",
    "model = Sequential()\n",
    "\n",
    "\n",
    "# input layer\n",
    "model.add(InputLayer(input_shape=(1, 28, 28)))\n",
    "\n",
    "#normalisation\n",
    "model.add(BatchNormalization())\n",
    "\n",
    "#Layer1\n",
    "model.add(Conv2D(40, kernel_size=5, padding=\"same\",input_shape=(28, 28, 1), activation = 'relu'))\n",
    "model.add(MaxPooling2D(pool_size=(2, 2), strides=(2, 2)))\n",
    "\n",
    "#Layer 2 & 3\n",
    "model.add(Conv2D(70, kernel_size=3, padding=\"same\", activation = 'relu'))\n",
    "model.add(Conv2D(200, kernel_size=3, padding=\"same\", activation = 'relu'))\n",
    "model.add(MaxPooling2D(pool_size=(2, 2), strides=(2, 2)))\n",
    "\n",
    "#layer 4\n",
    "model.add(Conv2D(250, kernel_size=3, padding=\"valid\", activation = 'relu'))\n",
    "model.add(MaxPooling2D(pool_size=(2, 2), strides=(2, 2)))\n",
    "\n",
    "\n",
    "#Layer 5 & 6 & 7\n",
    "model.add(Flatten())\n",
    "model.add(Dense(units=100, activation='relu'  ))\n",
    "model.add(Dense(units=100, activation='relu'  ))\n",
    "model.add(Dense(units=100, activation='relu'  ))\n",
    "model.add(Dense(n_classes, activation='softmax'))\n",
    "\n",
    "print(model.summary())"
   ]
  },
  {
   "cell_type": "code",
   "execution_count": 25,
   "metadata": {
    "colab": {},
    "colab_type": "code",
    "id": "i89s3Mx9GNGY"
   },
   "outputs": [],
   "source": [
    "# compile the model\n",
    "model.compile(optimizer= 'sgd',\n",
    "              loss='categorical_crossentropy',\n",
    "              metrics=['accuracy'])"
   ]
  },
  {
   "cell_type": "code",
   "execution_count": 26,
   "metadata": {
    "colab": {
     "base_uri": "https://localhost:8080/",
     "height": 434
    },
    "colab_type": "code",
    "id": "qmyjOCdZG82Y",
    "outputId": "ef443b0a-76e9-4d0d-a6ec-3172c45707f4"
   },
   "outputs": [
    {
     "name": "stdout",
     "output_type": "stream",
     "text": [
      "Train on 51000 samples, validate on 9000 samples\n",
      "Epoch 1/10\n",
      "51000/51000 [==============================] - 411s 8ms/step - loss: 1.8629 - acc: 0.4201 - val_loss: 1.0043 - val_acc: 0.6321\n",
      "Epoch 2/10\n",
      "51000/51000 [==============================] - 421s 8ms/step - loss: 0.8409 - acc: 0.6907 - val_loss: 0.8122 - val_acc: 0.7037\n",
      "Epoch 3/10\n",
      "51000/51000 [==============================] - 404s 8ms/step - loss: 0.7004 - acc: 0.7386 - val_loss: 0.6637 - val_acc: 0.7541\n",
      "Epoch 4/10\n",
      "51000/51000 [==============================] - 401s 8ms/step - loss: 0.6324 - acc: 0.7632 - val_loss: 0.5944 - val_acc: 0.7817\n",
      "Epoch 5/10\n",
      "51000/51000 [==============================] - 403s 8ms/step - loss: 0.5836 - acc: 0.7824 - val_loss: 0.5752 - val_acc: 0.7878\n",
      "Epoch 6/10\n",
      "51000/51000 [==============================] - 402s 8ms/step - loss: 0.5460 - acc: 0.7951 - val_loss: 0.5335 - val_acc: 0.8036\n",
      "Epoch 7/10\n",
      "51000/51000 [==============================] - 393s 8ms/step - loss: 0.5086 - acc: 0.8100 - val_loss: 0.4847 - val_acc: 0.8208\n",
      "Epoch 8/10\n",
      "51000/51000 [==============================] - 404s 8ms/step - loss: 0.4809 - acc: 0.8201 - val_loss: 0.4820 - val_acc: 0.8189\n",
      "Epoch 9/10\n",
      "51000/51000 [==============================] - 440s 9ms/step - loss: 0.4579 - acc: 0.8297 - val_loss: 0.4774 - val_acc: 0.8250\n",
      "Epoch 10/10\n",
      "51000/51000 [==============================] - 438s 9ms/step - loss: 0.4335 - acc: 0.8386 - val_loss: 0.4440 - val_acc: 0.8328\n"
     ]
    }
   ],
   "source": [
    "training = model.fit(train_features, train_labels,\n",
    "                     validation_data=(validation_features, validation_labels),\n",
    "                     epochs=epochs,\n",
    "                     batch_size=batch_size, \n",
    "                     verbose=1)"
   ]
  },
  {
   "cell_type": "code",
   "execution_count": 27,
   "metadata": {
    "colab": {
     "base_uri": "https://localhost:8080/",
     "height": 571
    },
    "colab_type": "code",
    "id": "OcBgDxcTId00",
    "outputId": "4a9c9ea2-94db-4b7b-9281-f6e1378e2b66"
   },
   "outputs": [
    {
     "data": {
      "image/png": "[encoded data removed]",
      "text/plain": [
       "<Figure size 432x288 with 1 Axes>"
      ]
     },
     "metadata": {
      "needs_background": "light"
     },
     "output_type": "display_data"
    },
    {
     "data": {
      "image/png": "[encoded data removed]",
      "text/plain": [
       "<Figure size 432x288 with 1 Axes>"
      ]
     },
     "metadata": {
      "needs_background": "light"
     },
     "output_type": "display_data"
    }
   ],
   "source": [
    "# show the loss and accuracy\n",
    "loss = training.history['loss']\n",
    "val_loss = training.history['val_loss']\n",
    "acc = training.history['acc']\n",
    "val_acc = training.history['val_acc']\n",
    "\n",
    "# loss plot\n",
    "tra = plt.plot(loss)\n",
    "val = plt.plot(val_loss, 'r')\n",
    "plt.xlabel('Epochs')\n",
    "plt.ylabel('Loss')\n",
    "plt.title('Loss')\n",
    "plt.legend([\"Training\", \"Validation\"])\n",
    "\n",
    "plt.show()\n",
    "\n",
    "# accuracy plot\n",
    "plt.plot(acc)\n",
    "plt.plot(val_acc, 'r')\n",
    "plt.xlabel('Epochs')\n",
    "plt.ylabel('Accuracy')\n",
    "plt.title('Accuracy')\n",
    "plt.legend(['Training', 'Validation'], loc=4)\n",
    "plt.show()"
   ]
  },
  {
   "cell_type": "code",
   "execution_count": 28,
   "metadata": {
    "colab": {},
    "colab_type": "code",
    "id": "Bqzpl3NOHQQg"
   },
   "outputs": [],
   "source": [
    "test_labels = y_test\n",
    "pred = model.predict(test_features)\n",
    "# convert predicions from categorical back to 0...9 digits\n",
    "pred_digits = np.argmax(pred, axis=1)"
   ]
  },
  {
   "cell_type": "code",
   "execution_count": 29,
   "metadata": {
    "colab": {
     "base_uri": "https://localhost:8080/",
     "height": 34
    },
    "colab_type": "code",
    "id": "ghpVdGF0I7Bs",
    "outputId": "99c06af5-fc64-4391-c512-b1bd646c9028"
   },
   "outputs": [
    {
     "data": {
      "text/plain": [
       "0.8264"
      ]
     },
     "execution_count": 29,
     "metadata": {},
     "output_type": "execute_result"
    }
   ],
   "source": [
    "accuracy_score(test_labels, pred_digits)"
   ]
  },
  {
   "cell_type": "markdown",
   "metadata": {},
   "source": [
    "test 2"
   ]
  },
  {
   "cell_type": "code",
   "execution_count": 40,
   "metadata": {},
   "outputs": [
    {
     "name": "stdout",
     "output_type": "stream",
     "text": [
      "_________________________________________________________________\n",
      "Layer (type)                 Output Shape              Param #   \n",
      "=================================================================\n",
      "flatten_6 (Flatten)          (None, 784)               0         \n",
      "_________________________________________________________________\n",
      "dense_23 (Dense)             (None, 128)               100480    \n",
      "_________________________________________________________________\n",
      "dense_24 (Dense)             (None, 128)               16512     \n",
      "_________________________________________________________________\n",
      "dense_25 (Dense)             (None, 128)               16512     \n",
      "_________________________________________________________________\n",
      "dense_26 (Dense)             (None, 64)                8256      \n",
      "_________________________________________________________________\n",
      "dense_27 (Dense)             (None, 10)                650       \n",
      "=================================================================\n",
      "Total params: 142,410\n",
      "Trainable params: 142,410\n",
      "Non-trainable params: 0\n",
      "_________________________________________________________________\n",
      "None\n"
     ]
    }
   ],
   "source": [
    "# hyperparameters\n",
    "epochs = 10\n",
    "batch_size = 200\n",
    "\n",
    "# build model2\n",
    "n_classes = 10\n",
    "model = Sequential()\n",
    "\n",
    "\n",
    "# input layer\n",
    "model.add(InputLayer(input_shape=(1, 28, 28)))\n",
    "#normalisation\n",
    "model.add(BatchNormalization())\n",
    "\n",
    "#Layer 1 & 2 & 3 & 4\n",
    "model.add(Flatten())\n",
    "model.add(Dense(units=128, activation='relu'  ))\n",
    "model.add(Dense(units=128, activation='relu'  ))\n",
    "model.add(Dense(units=128, activation='relu'  ))\n",
    "\n",
    "model.add(Dense(units=64, activation='relu'  ))\n",
    "\n",
    "model.add(Dense(n_classes, activation='softmax'))\n",
    "\n",
    "print(model.summary())"
   ]
  },
  {
   "cell_type": "code",
   "execution_count": 41,
   "metadata": {},
   "outputs": [],
   "source": [
    "# compile the model\n",
    "model.compile(optimizer= 'Adam',\n",
    "              loss='categorical_crossentropy',\n",
    "              metrics=['accuracy'])"
   ]
  },
  {
   "cell_type": "code",
   "execution_count": 42,
   "metadata": {},
   "outputs": [
    {
     "name": "stdout",
     "output_type": "stream",
     "text": [
      "Train on 51000 samples, validate on 9000 samples\n",
      "Epoch 1/10\n",
      "51000/51000 [==============================] - 2s 42us/step - loss: 13.4055 - acc: 0.1675 - val_loss: 13.2592 - val_acc: 0.1772\n",
      "Epoch 2/10\n",
      "51000/51000 [==============================] - 1s 29us/step - loss: 13.4271 - acc: 0.1667 - val_loss: 13.1577 - val_acc: 0.1837\n",
      "Epoch 3/10\n",
      "51000/51000 [==============================] - 1s 28us/step - loss: 13.2488 - acc: 0.1780 - val_loss: 13.1954 - val_acc: 0.1813\n",
      "Epoch 4/10\n",
      "51000/51000 [==============================] - 1s 28us/step - loss: 13.2927 - acc: 0.1753 - val_loss: 13.1585 - val_acc: 0.1836\n",
      "Epoch 5/10\n",
      "51000/51000 [==============================] - 2s 29us/step - loss: 13.5703 - acc: 0.1580 - val_loss: 13.8150 - val_acc: 0.1429\n",
      "Epoch 6/10\n",
      "51000/51000 [==============================] - 1s 29us/step - loss: 13.3901 - acc: 0.1692 - val_loss: 13.1721 - val_acc: 0.1828\n",
      "Epoch 7/10\n",
      "51000/51000 [==============================] - 2s 31us/step - loss: 13.2523 - acc: 0.1778 - val_loss: 14.1680 - val_acc: 0.1208\n",
      "Epoch 8/10\n",
      "51000/51000 [==============================] - 2s 30us/step - loss: 13.2939 - acc: 0.1752 - val_loss: 13.1345 - val_acc: 0.1851\n",
      "Epoch 9/10\n",
      "51000/51000 [==============================] - 2s 29us/step - loss: 13.2191 - acc: 0.1799 - val_loss: 13.1345 - val_acc: 0.1851\n",
      "Epoch 10/10\n",
      "51000/51000 [==============================] - 2s 30us/step - loss: 13.2191 - acc: 0.1799 - val_loss: 13.1345 - val_acc: 0.1851\n"
     ]
    }
   ],
   "source": [
    "training = model.fit(train_features, train_labels,\n",
    "                     validation_data=(validation_features, validation_labels),\n",
    "                     epochs=epochs,\n",
    "                     batch_size=batch_size, \n",
    "                     verbose=1)"
   ]
  },
  {
   "cell_type": "markdown",
   "metadata": {},
   "source": [
    "# Expérience 4"
   ]
  },
  {
   "cell_type": "code",
   "execution_count": 32,
   "metadata": {},
   "outputs": [
    {
     "name": "stdout",
     "output_type": "stream",
     "text": [
      "_________________________________________________________________\n",
      "Layer (type)                 Output Shape              Param #   \n",
      "=================================================================\n",
      "batch_normalization_3 (Batch (None, 1, 28, 28)         112       \n",
      "_________________________________________________________________\n",
      "conv2d_15 (Conv2D)           (None, 40, 28, 28)        1040      \n",
      "_________________________________________________________________\n",
      "max_pooling2d_12 (MaxPooling (None, 40, 14, 14)        0         \n",
      "_________________________________________________________________\n",
      "conv2d_16 (Conv2D)           (None, 70, 14, 14)        25270     \n",
      "_________________________________________________________________\n",
      "conv2d_17 (Conv2D)           (None, 200, 14, 14)       126200    \n",
      "_________________________________________________________________\n",
      "max_pooling2d_13 (MaxPooling (None, 200, 7, 7)         0         \n",
      "_________________________________________________________________\n",
      "conv2d_18 (Conv2D)           (None, 250, 5, 5)         450250    \n",
      "_________________________________________________________________\n",
      "max_pooling2d_14 (MaxPooling (None, 250, 2, 2)         0         \n",
      "_________________________________________________________________\n",
      "flatten_6 (Flatten)          (None, 1000)              0         \n",
      "_________________________________________________________________\n",
      "dense_18 (Dense)             (None, 180)               180180    \n",
      "_________________________________________________________________\n",
      "dropout_1 (Dropout)          (None, 180)               0         \n",
      "_________________________________________________________________\n",
      "dense_19 (Dense)             (None, 100)               18100     \n",
      "_________________________________________________________________\n",
      "dropout_2 (Dropout)          (None, 100)               0         \n",
      "_________________________________________________________________\n",
      "dense_20 (Dense)             (None, 100)               10100     \n",
      "_________________________________________________________________\n",
      "dropout_3 (Dropout)          (None, 100)               0         \n",
      "_________________________________________________________________\n",
      "dense_21 (Dense)             (None, 10)                1010      \n",
      "=================================================================\n",
      "Total params: 812,262\n",
      "Trainable params: 812,206\n",
      "Non-trainable params: 56\n",
      "_________________________________________________________________\n",
      "None\n"
     ]
    }
   ],
   "source": [
    "# hyperparameters\n",
    "epochs = 10\n",
    "batch_size = 200\n",
    "\n",
    "# build model2\n",
    "n_classes = 10\n",
    "model = Sequential()\n",
    "\n",
    "\n",
    "# input layer\n",
    "model.add(InputLayer(input_shape=(1, 28, 28)))\n",
    "#normalisation\n",
    "model.add(BatchNormalization())\n",
    "\n",
    "#Layer1\n",
    "model.add(Conv2D(40, kernel_size=5, padding=\"same\",input_shape=(28, 28, 1), activation = 'relu'))\n",
    "model.add(MaxPooling2D(pool_size=(2, 2), strides=(2, 2)))\n",
    "\n",
    "#Layer 2 & 3\n",
    "model.add(Conv2D(70, kernel_size=3, padding=\"same\", activation = 'relu'))\n",
    "model.add(Conv2D(200, kernel_size=3, padding=\"same\", activation = 'relu'))\n",
    "model.add(MaxPooling2D(pool_size=(2, 2), strides=(2, 2)))\n",
    "\n",
    "#layer 4\n",
    "model.add(Conv2D(250, kernel_size=3, padding=\"valid\", activation = 'relu'))\n",
    "model.add(MaxPooling2D(pool_size=(2, 2), strides=(2, 2)))\n",
    "\n",
    "\n",
    "#Layer 5 & 6 & 7\n",
    "model.add(Flatten())\n",
    "model.add(Dense(units=180, activation='relu'  ))\n",
    "model.add(Dropout(0.35))\n",
    "model.add(Dense(units=100, activation='relu'  ))\n",
    "model.add(Dropout(0.35))\n",
    "model.add(Dense(units=100, activation='relu'  ))\n",
    "model.add(Dropout(0.35))\n",
    "model.add(Dense(n_classes, activation='softmax'))\n",
    "\n",
    "print(model.summary())"
   ]
  },
  {
   "cell_type": "code",
   "execution_count": 33,
   "metadata": {},
   "outputs": [],
   "source": [
    "# compile the model\n",
    "model.compile(optimizer= 'Adam',\n",
    "              loss='categorical_crossentropy',\n",
    "              metrics=['accuracy'])"
   ]
  },
  {
   "cell_type": "code",
   "execution_count": 34,
   "metadata": {},
   "outputs": [
    {
     "name": "stdout",
     "output_type": "stream",
     "text": [
      "Train on 51000 samples, validate on 9000 samples\n",
      "Epoch 1/10\n",
      "51000/51000 [==============================] - 457s 9ms/step - loss: 0.8617 - acc: 0.6880 - val_loss: 0.4134 - val_acc: 0.8588\n",
      "Epoch 2/10\n",
      "51000/51000 [==============================] - 445s 9ms/step - loss: 0.4438 - acc: 0.8467 - val_loss: 0.3422 - val_acc: 0.8784\n",
      "Epoch 3/10\n",
      "51000/51000 [==============================] - 413s 8ms/step - loss: 0.3595 - acc: 0.8778 - val_loss: 0.2951 - val_acc: 0.8959\n",
      "Epoch 4/10\n",
      "51000/51000 [==============================] - 476s 9ms/step - loss: 0.3098 - acc: 0.8923 - val_loss: 0.2798 - val_acc: 0.9007\n",
      "Epoch 5/10\n",
      "51000/51000 [==============================] - 414s 8ms/step - loss: 0.2764 - acc: 0.9033 - val_loss: 0.2576 - val_acc: 0.9106\n",
      "Epoch 6/10\n",
      "51000/51000 [==============================] - 398s 8ms/step - loss: 0.2509 - acc: 0.9139 - val_loss: 0.2434 - val_acc: 0.9141\n",
      "Epoch 7/10\n",
      "51000/51000 [==============================] - 400s 8ms/step - loss: 0.2299 - acc: 0.9194 - val_loss: 0.2474 - val_acc: 0.9124\n",
      "Epoch 8/10\n",
      "51000/51000 [==============================] - 406s 8ms/step - loss: 0.2035 - acc: 0.9282 - val_loss: 0.2359 - val_acc: 0.9162\n",
      "Epoch 9/10\n",
      "51000/51000 [==============================] - 392s 8ms/step - loss: 0.1905 - acc: 0.9340 - val_loss: 0.2339 - val_acc: 0.9199\n",
      "Epoch 10/10\n",
      "51000/51000 [==============================] - 452s 9ms/step - loss: 0.1753 - acc: 0.9385 - val_loss: 0.2591 - val_acc: 0.9158\n"
     ]
    }
   ],
   "source": [
    "training = model.fit(train_features, train_labels,\n",
    "                     validation_data=(validation_features, validation_labels),\n",
    "                     epochs=epochs,\n",
    "                     batch_size=batch_size, \n",
    "                     verbose=1)"
   ]
  },
  {
   "cell_type": "code",
   "execution_count": 35,
   "metadata": {},
   "outputs": [
    {
     "data": {
      "image/png": "[encoded data removed]",
      "text/plain": [
       "<Figure size 432x288 with 1 Axes>"
      ]
     },
     "metadata": {
      "needs_background": "light"
     },
     "output_type": "display_data"
    },
    {
     "data": {
      "image/png": "[encoded data removed]",
      "text/plain": [
       "<Figure size 432x288 with 1 Axes>"
      ]
     },
     "metadata": {
      "needs_background": "light"
     },
     "output_type": "display_data"
    }
   ],
   "source": [
    "# show the loss and accuracy\n",
    "loss = training.history['loss']\n",
    "val_loss = training.history['val_loss']\n",
    "acc = training.history['acc']\n",
    "val_acc = training.history['val_acc']\n",
    "\n",
    "# loss plot\n",
    "tra = plt.plot(loss)\n",
    "val = plt.plot(val_loss, 'r')\n",
    "plt.xlabel('Epochs')\n",
    "plt.ylabel('Loss')\n",
    "plt.title('Loss')\n",
    "plt.legend([\"Training\", \"Validation\"])\n",
    "\n",
    "plt.show()\n",
    "\n",
    "# accuracy plot\n",
    "plt.plot(acc)\n",
    "plt.plot(val_acc, 'r')\n",
    "plt.xlabel('Epochs')\n",
    "plt.ylabel('Accuracy')\n",
    "plt.title('Accuracy')\n",
    "plt.legend(['Training', 'Validation'], loc=4)\n",
    "plt.show()"
   ]
  },
  {
   "cell_type": "code",
   "execution_count": 36,
   "metadata": {},
   "outputs": [],
   "source": [
    "test_labels = y_test\n",
    "pred = model.predict(test_features)\n",
    "# convert predicions from categorical back to 0...9 digits\n",
    "pred_digits = np.argmax(pred, axis=1)"
   ]
  },
  {
   "cell_type": "code",
   "execution_count": 37,
   "metadata": {},
   "outputs": [
    {
     "data": {
      "text/plain": [
       "0.9092"
      ]
     },
     "execution_count": 37,
     "metadata": {},
     "output_type": "execute_result"
    }
   ],
   "source": [
    "accuracy_score(test_labels, pred_digits)"
   ]
  },
  {
   "cell_type": "markdown",
   "metadata": {},
   "source": [
    "# Expérience 5:"
   ]
  },
  {
   "cell_type": "code",
   "execution_count": 25,
   "metadata": {},
   "outputs": [
    {
     "name": "stdout",
     "output_type": "stream",
     "text": [
      "_________________________________________________________________\n",
      "Layer (type)                 Output Shape              Param #   \n",
      "=================================================================\n",
      "batch_normalization_9 (Batch (None, 1, 28, 28)         112       \n",
      "_________________________________________________________________\n",
      "conv2d_59 (Conv2D)           (None, 64, 28, 28)        640       \n",
      "_________________________________________________________________\n",
      "max_pooling2d_38 (MaxPooling (None, 64, 14, 14)        0         \n",
      "_________________________________________________________________\n",
      "conv2d_60 (Conv2D)           (None, 128, 12, 12)       73856     \n",
      "_________________________________________________________________\n",
      "max_pooling2d_39 (MaxPooling (None, 128, 6, 6)         0         \n",
      "_________________________________________________________________\n",
      "conv2d_61 (Conv2D)           (None, 256, 6, 6)         295168    \n",
      "_________________________________________________________________\n",
      "conv2d_62 (Conv2D)           (None, 256, 6, 6)         590080    \n",
      "_________________________________________________________________\n",
      "max_pooling2d_40 (MaxPooling (None, 256, 3, 3)         0         \n",
      "_________________________________________________________________\n",
      "conv2d_63 (Conv2D)           (None, 512, 3, 3)         1180160   \n",
      "_________________________________________________________________\n",
      "conv2d_64 (Conv2D)           (None, 512, 3, 3)         2359808   \n",
      "_________________________________________________________________\n",
      "max_pooling2d_41 (MaxPooling (None, 512, 1, 1)         0         \n",
      "_________________________________________________________________\n",
      "flatten_3 (Flatten)          (None, 512)               0         \n",
      "_________________________________________________________________\n",
      "dense_9 (Dense)              (None, 256)               131328    \n",
      "_________________________________________________________________\n",
      "dropout_4 (Dropout)          (None, 256)               0         \n",
      "_________________________________________________________________\n",
      "dense_10 (Dense)             (None, 128)               32896     \n",
      "_________________________________________________________________\n",
      "dropout_5 (Dropout)          (None, 128)               0         \n",
      "_________________________________________________________________\n",
      "dense_11 (Dense)             (None, 64)                8256      \n",
      "_________________________________________________________________\n",
      "dropout_6 (Dropout)          (None, 64)                0         \n",
      "_________________________________________________________________\n",
      "dense_12 (Dense)             (None, 10)                650       \n",
      "=================================================================\n",
      "Total params: 4,672,954\n",
      "Trainable params: 4,672,898\n",
      "Non-trainable params: 56\n",
      "_________________________________________________________________\n",
      "None\n"
     ]
    }
   ],
   "source": [
    "# hyperparameters\n",
    "epochs = 10\n",
    "batch_size = 256\n",
    "\n",
    "# build model2\n",
    "n_classes = 10\n",
    "model = Sequential()\n",
    "\n",
    "\n",
    "# input layer\n",
    "model.add(InputLayer(input_shape=(1, 28, 28)))\n",
    "#normalisation\n",
    "model.add(BatchNormalization())\n",
    "\n",
    "#Layer1\n",
    "model.add(Conv2D(64, kernel_size=3, padding=\"same\", activation = 'relu'))\n",
    "model.add(MaxPooling2D(pool_size=(2, 2), strides=(2, 2)))\n",
    "\n",
    "\n",
    "#layer 2\n",
    "model.add(Conv2D(128, kernel_size=3, padding=\"valid\", activation = 'relu'))\n",
    "model.add(MaxPooling2D(pool_size=(2, 2), strides=(2, 2)))\n",
    "\n",
    "\n",
    "#Layer 3 & 4\n",
    "model.add(Conv2D(256, kernel_size=3, padding=\"same\", activation = 'relu'))\n",
    "model.add(Conv2D(256, kernel_size=3, padding=\"same\", activation = 'relu'))\n",
    "model.add(MaxPooling2D(pool_size=(2, 2), strides=(2, 2)))\n",
    "\n",
    "\n",
    "#Layer 5&6\n",
    "model.add(Conv2D(512, kernel_size=3, padding=\"same\", activation = 'relu'))\n",
    "model.add(Conv2D(512, kernel_size=3, padding=\"same\", activation = 'relu'))\n",
    "model.add(MaxPooling2D(pool_size=(2, 2), strides=(2, 2)))\n",
    "\n",
    "\n",
    "\n",
    "\n",
    "\n",
    "\n",
    "#Layer 7 & 8 & 9\n",
    "model.add(Flatten())\n",
    "model.add(Dense(units=256, activation='relu'  ))\n",
    "model.add(Dropout(0.35))\n",
    "model.add(Dense(units=128, activation='relu'  ))\n",
    "model.add(Dropout(0.35))\n",
    "model.add(Dense(units=64, activation='relu'  ))\n",
    "model.add(Dropout(0.35))\n",
    "model.add(Dense(n_classes, activation='softmax'))\n",
    "\n",
    "print(model.summary())"
   ]
  },
  {
   "cell_type": "code",
   "execution_count": 26,
   "metadata": {},
   "outputs": [],
   "source": [
    "# compile the model\n",
    "model.compile(optimizer= 'Adam',\n",
    "              loss='categorical_crossentropy',\n",
    "              metrics=['accuracy'])"
   ]
  },
  {
   "cell_type": "code",
   "execution_count": 27,
   "metadata": {},
   "outputs": [
    {
     "name": "stdout",
     "output_type": "stream",
     "text": [
      "Train on 51000 samples, validate on 9000 samples\n",
      "Epoch 1/10\n",
      "51000/51000 [==============================] - 864s 17ms/step - loss: 1.7609 - acc: 0.3929 - val_loss: 0.7223 - val_acc: 0.7276\n",
      "Epoch 2/10\n",
      "51000/51000 [==============================] - 907s 18ms/step - loss: 0.7126 - acc: 0.7455 - val_loss: 0.5419 - val_acc: 0.7921\n",
      "Epoch 3/10\n",
      "51000/51000 [==============================] - 899s 18ms/step - loss: 0.5558 - acc: 0.8002 - val_loss: 0.4841 - val_acc: 0.8137\n",
      "Epoch 4/10\n",
      "51000/51000 [==============================] - 996s 20ms/step - loss: 0.4757 - acc: 0.8269 - val_loss: 0.4058 - val_acc: 0.8409\n",
      "Epoch 5/10\n",
      "51000/51000 [==============================] - 941s 18ms/step - loss: 0.4243 - acc: 0.8475 - val_loss: 0.3530 - val_acc: 0.8704\n",
      "Epoch 6/10\n",
      "51000/51000 [==============================] - 903s 18ms/step - loss: 0.3661 - acc: 0.8756 - val_loss: 0.3387 - val_acc: 0.8743\n",
      "Epoch 7/10\n",
      "51000/51000 [==============================] - 853s 17ms/step - loss: 0.3323 - acc: 0.8856 - val_loss: 0.2864 - val_acc: 0.8964\n",
      "Epoch 8/10\n",
      "51000/51000 [==============================] - 853s 17ms/step - loss: 0.3002 - acc: 0.8974 - val_loss: 0.2869 - val_acc: 0.8960\n",
      "Epoch 9/10\n",
      "51000/51000 [==============================] - 879s 17ms/step - loss: 0.2684 - acc: 0.9063 - val_loss: 0.2793 - val_acc: 0.9031\n",
      "Epoch 10/10\n",
      "51000/51000 [==============================] - 879s 17ms/step - loss: 0.2579 - acc: 0.9113 - val_loss: 0.2714 - val_acc: 0.9081\n"
     ]
    }
   ],
   "source": [
    "training = model.fit(train_features, train_labels,\n",
    "                     validation_data=(validation_features, validation_labels),\n",
    "                     epochs=epochs,\n",
    "                     batch_size=batch_size, \n",
    "                     verbose=1)"
   ]
  },
  {
   "cell_type": "code",
   "execution_count": 28,
   "metadata": {},
   "outputs": [
    {
     "data": {
      "image/png": "[encoded data removed]",
      "text/plain": [
       "<Figure size 432x288 with 1 Axes>"
      ]
     },
     "metadata": {
      "needs_background": "light"
     },
     "output_type": "display_data"
    },
    {
     "data": {
      "image/png": "[encoded data removed]",
      "text/plain": [
       "<Figure size 432x288 with 1 Axes>"
      ]
     },
     "metadata": {
      "needs_background": "light"
     },
     "output_type": "display_data"
    }
   ],
   "source": [
    "# show the loss and accuracy\n",
    "loss = training.history['loss']\n",
    "val_loss = training.history['val_loss']\n",
    "acc = training.history['acc']\n",
    "val_acc = training.history['val_acc']\n",
    "\n",
    "# loss plot\n",
    "tra = plt.plot(loss)\n",
    "val = plt.plot(val_loss, 'r')\n",
    "plt.xlabel('Epochs')\n",
    "plt.ylabel('Loss')\n",
    "plt.title('Loss')\n",
    "plt.legend([\"Training\", \"Validation\"])\n",
    "\n",
    "plt.show()\n",
    "\n",
    "# accuracy plot\n",
    "plt.plot(acc)\n",
    "plt.plot(val_acc, 'r')\n",
    "plt.xlabel('Epochs')\n",
    "plt.ylabel('Accuracy')\n",
    "plt.title('Accuracy')\n",
    "plt.legend(['Training', 'Validation'], loc=4)\n",
    "plt.show()"
   ]
  },
  {
   "cell_type": "code",
   "execution_count": 29,
   "metadata": {},
   "outputs": [],
   "source": [
    "test_labels = y_test\n",
    "pred = model.predict(test_features)\n",
    "# convert predicions from categorical back to 0...9 digits\n",
    "pred_digits = np.argmax(pred, axis=1)"
   ]
  },
  {
   "cell_type": "code",
   "execution_count": 30,
   "metadata": {},
   "outputs": [
    {
     "data": {
      "text/plain": [
       "0.9062"
      ]
     },
     "execution_count": 30,
     "metadata": {},
     "output_type": "execute_result"
    }
   ],
   "source": [
    "accuracy_score(test_labels, pred_digits)"
   ]
  },
  {
   "cell_type": "markdown",
   "metadata": {},
   "source": [
    "# Expérience 6:"
   ]
  },
  {
   "cell_type": "code",
   "execution_count": 50,
   "metadata": {},
   "outputs": [
    {
     "name": "stdout",
     "output_type": "stream",
     "text": [
      "_________________________________________________________________\n",
      "Layer (type)                 Output Shape              Param #   \n",
      "=================================================================\n",
      "batch_normalization_13 (Batc (None, 1, 28, 28)         112       \n",
      "_________________________________________________________________\n",
      "conv2d_65 (Conv2D)           (None, 64, 28, 28)        320       \n",
      "_________________________________________________________________\n",
      "max_pooling2d_42 (MaxPooling (None, 64, 14, 14)        0         \n",
      "_________________________________________________________________\n",
      "dropout_15 (Dropout)         (None, 64, 14, 14)        0         \n",
      "_________________________________________________________________\n",
      "conv2d_66 (Conv2D)           (None, 32, 12, 12)        18464     \n",
      "_________________________________________________________________\n",
      "max_pooling2d_43 (MaxPooling (None, 32, 6, 6)          0         \n",
      "_________________________________________________________________\n",
      "dropout_16 (Dropout)         (None, 32, 6, 6)          0         \n",
      "_________________________________________________________________\n",
      "flatten_9 (Flatten)          (None, 1152)              0         \n",
      "_________________________________________________________________\n",
      "dense_38 (Dense)             (None, 256)               295168    \n",
      "_________________________________________________________________\n",
      "dropout_17 (Dropout)         (None, 256)               0         \n",
      "_________________________________________________________________\n",
      "dense_39 (Dense)             (None, 10)                2570      \n",
      "=================================================================\n",
      "Total params: 316,634\n",
      "Trainable params: 316,578\n",
      "Non-trainable params: 56\n",
      "_________________________________________________________________\n",
      "None\n"
     ]
    }
   ],
   "source": [
    "# hyperparameters\n",
    "epochs = 10\n",
    "batch_size = 256\n",
    "\n",
    "# build model2\n",
    "n_classes = 10\n",
    "model = Sequential()\n",
    "\n",
    "\n",
    "# input layer\n",
    "model.add(InputLayer(input_shape=(1, 28, 28)))\n",
    "\n",
    "#normalisation\n",
    "model.add(BatchNormalization())\n",
    "\n",
    "#Layer1\n",
    "model.add(Conv2D(64, kernel_size=2, padding=\"same\", activation = 'relu'))\n",
    "model.add(MaxPooling2D(pool_size=(2, 2), strides=(2, 2)))\n",
    "model.add(Dropout(0.35))\n",
    "\n",
    "#layer 2\n",
    "model.add(Conv2D(32, kernel_size=3, padding=\"valid\", activation = 'relu'))\n",
    "model.add(MaxPooling2D(pool_size=(2, 2), strides=(2, 2)))\n",
    "model.add(Dropout(0.35))\n",
    "\n",
    "\n",
    "\n",
    "\n",
    "\n",
    "\n",
    "#Layer 3\n",
    "model.add(Flatten())\n",
    "model.add(Dense(units=256, activation='relu'  ))\n",
    "model.add(Dropout(0.35))\n",
    "\n",
    "model.add(Dense(n_classes, activation='softmax'))\n",
    "\n",
    "print(model.summary())"
   ]
  },
  {
   "cell_type": "code",
   "execution_count": 51,
   "metadata": {},
   "outputs": [],
   "source": [
    "# compile the model\n",
    "model.compile(optimizer= 'Adam',\n",
    "              loss='categorical_crossentropy',\n",
    "              metrics=['accuracy'])"
   ]
  },
  {
   "cell_type": "code",
   "execution_count": 52,
   "metadata": {},
   "outputs": [
    {
     "name": "stdout",
     "output_type": "stream",
     "text": [
      "Train on 51000 samples, validate on 9000 samples\n",
      "Epoch 1/10\n",
      "51000/51000 [==============================] - 350s 7ms/step - loss: 0.6630 - acc: 0.7567 - val_loss: 0.3979 - val_acc: 0.8612\n",
      "Epoch 2/10\n",
      "51000/51000 [==============================] - 339s 7ms/step - loss: 0.4243 - acc: 0.8467 - val_loss: 0.3414 - val_acc: 0.8792\n",
      "Epoch 3/10\n",
      "51000/51000 [==============================] - 348s 7ms/step - loss: 0.3745 - acc: 0.8635 - val_loss: 0.3183 - val_acc: 0.8828\n",
      "Epoch 4/10\n",
      "51000/51000 [==============================] - 344s 7ms/step - loss: 0.3445 - acc: 0.8739 - val_loss: 0.2908 - val_acc: 0.8972\n",
      "Epoch 5/10\n",
      "51000/51000 [==============================] - 346s 7ms/step - loss: 0.3258 - acc: 0.8819 - val_loss: 0.2764 - val_acc: 0.9001\n",
      "Epoch 6/10\n",
      "51000/51000 [==============================] - 331s 6ms/step - loss: 0.3047 - acc: 0.8886 - val_loss: 0.2712 - val_acc: 0.9004\n",
      "Epoch 7/10\n",
      "51000/51000 [==============================] - 340s 7ms/step - loss: 0.2923 - acc: 0.8927 - val_loss: 0.2550 - val_acc: 0.9068\n",
      "Epoch 8/10\n",
      "51000/51000 [==============================] - 338s 7ms/step - loss: 0.2818 - acc: 0.8955 - val_loss: 0.2509 - val_acc: 0.9097\n",
      "Epoch 9/10\n",
      "51000/51000 [==============================] - 346s 7ms/step - loss: 0.2703 - acc: 0.9003 - val_loss: 0.2384 - val_acc: 0.9148\n",
      "Epoch 10/10\n",
      "51000/51000 [==============================] - 364s 7ms/step - loss: 0.2596 - acc: 0.9035 - val_loss: 0.2419 - val_acc: 0.9087\n"
     ]
    }
   ],
   "source": [
    "training = model.fit(train_features, train_labels,\n",
    "                     validation_data=(validation_features, validation_labels),\n",
    "                     epochs=epochs,\n",
    "                     batch_size=batch_size, \n",
    "                     verbose=1)"
   ]
  },
  {
   "cell_type": "code",
   "execution_count": 53,
   "metadata": {},
   "outputs": [
    {
     "data": {
      "image/png": "[encoded data removed]",
      "text/plain": [
       "<Figure size 432x288 with 1 Axes>"
      ]
     },
     "metadata": {
      "needs_background": "light"
     },
     "output_type": "display_data"
    },
    {
     "data": {
      "image/png": "[encoded data removed]",
      "text/plain": [
       "<Figure size 432x288 with 1 Axes>"
      ]
     },
     "metadata": {
      "needs_background": "light"
     },
     "output_type": "display_data"
    }
   ],
   "source": [
    "# show the loss and accuracy\n",
    "loss = training.history['loss']\n",
    "val_loss = training.history['val_loss']\n",
    "acc = training.history['acc']\n",
    "val_acc = training.history['val_acc']\n",
    "\n",
    "# loss plot\n",
    "tra = plt.plot(loss)\n",
    "val = plt.plot(val_loss, 'r')\n",
    "plt.xlabel('Epochs')\n",
    "plt.ylabel('Loss')\n",
    "plt.title('Loss')\n",
    "plt.legend([\"Training\", \"Validation\"])\n",
    "\n",
    "plt.show()\n",
    "\n",
    "# accuracy plot\n",
    "plt.plot(acc)\n",
    "plt.plot(val_acc, 'r')\n",
    "plt.xlabel('Epochs')\n",
    "plt.ylabel('Accuracy')\n",
    "plt.title('Accuracy')\n",
    "plt.legend(['Training', 'Validation'], loc=4)\n",
    "plt.show()"
   ]
  },
  {
   "cell_type": "code",
   "execution_count": 54,
   "metadata": {},
   "outputs": [],
   "source": [
    "test_labels = y_test\n",
    "pred = model.predict(test_features)\n",
    "# convert predicions from categorical back to 0...9 digits\n",
    "pred_digits = np.argmax(pred, axis=1)"
   ]
  },
  {
   "cell_type": "code",
   "execution_count": 55,
   "metadata": {},
   "outputs": [
    {
     "data": {
      "text/plain": [
       "0.9071"
      ]
     },
     "execution_count": 55,
     "metadata": {},
     "output_type": "execute_result"
    }
   ],
   "source": [
    "accuracy_score(test_labels, pred_digits)"
   ]
  },
  {
   "cell_type": "markdown",
   "metadata": {},
   "source": [
    "# Expérience 7:"
   ]
  },
  {
   "cell_type": "code",
   "execution_count": 9,
   "metadata": {},
   "outputs": [
    {
     "name": "stdout",
     "output_type": "stream",
     "text": [
      "_________________________________________________________________\n",
      "Layer (type)                 Output Shape              Param #   \n",
      "=================================================================\n",
      "batch_normalization_1 (Batch (None, 1, 28, 28)         112       \n",
      "_________________________________________________________________\n",
      "conv2d_1 (Conv2D)            (None, 64, 28, 28)        320       \n",
      "_________________________________________________________________\n",
      "max_pooling2d_1 (MaxPooling2 (None, 64, 14, 14)        0         \n",
      "_________________________________________________________________\n",
      "dropout_1 (Dropout)          (None, 64, 14, 14)        0         \n",
      "_________________________________________________________________\n",
      "conv2d_2 (Conv2D)            (None, 32, 12, 12)        18464     \n",
      "_________________________________________________________________\n",
      "max_pooling2d_2 (MaxPooling2 (None, 32, 6, 6)          0         \n",
      "_________________________________________________________________\n",
      "dropout_2 (Dropout)          (None, 32, 6, 6)          0         \n",
      "_________________________________________________________________\n",
      "flatten_1 (Flatten)          (None, 1152)              0         \n",
      "_________________________________________________________________\n",
      "dense_1 (Dense)              (None, 256)               295168    \n",
      "_________________________________________________________________\n",
      "dropout_3 (Dropout)          (None, 256)               0         \n",
      "_________________________________________________________________\n",
      "dense_2 (Dense)              (None, 10)                2570      \n",
      "=================================================================\n",
      "Total params: 316,634\n",
      "Trainable params: 316,578\n",
      "Non-trainable params: 56\n",
      "_________________________________________________________________\n",
      "None\n"
     ]
    }
   ],
   "source": [
    "# hyperparameters\n",
    "epochs = 10\n",
    "batch_size = 20\n",
    "\n",
    "# build model2\n",
    "n_classes = 10\n",
    "model = Sequential()\n",
    "\n",
    "\n",
    "# input layer\n",
    "model.add(InputLayer(input_shape=(1, 28, 28)))\n",
    "\n",
    "#normalisation\n",
    "model.add(BatchNormalization())\n",
    "\n",
    "#Layer1\n",
    "model.add(Conv2D(64, kernel_size=2, padding=\"same\", activation = 'relu'))\n",
    "model.add(MaxPooling2D(pool_size=(2, 2), strides=(2, 2)))\n",
    "model.add(Dropout(0.35))\n",
    "\n",
    "#layer 2\n",
    "model.add(Conv2D(32, kernel_size=3, padding=\"valid\", activation = 'relu'))\n",
    "model.add(MaxPooling2D(pool_size=(2, 2), strides=(2, 2)))\n",
    "model.add(Dropout(0.35))\n",
    "\n",
    "\n",
    "\n",
    "\n",
    "\n",
    "\n",
    "#Layer 3\n",
    "model.add(Flatten())\n",
    "model.add(Dense(units=256, activation='relu'  ))\n",
    "model.add(Dropout(0.35))\n",
    "\n",
    "model.add(Dense(n_classes, activation='softmax'))\n",
    "\n",
    "print(model.summary())"
   ]
  },
  {
   "cell_type": "code",
   "execution_count": 10,
   "metadata": {},
   "outputs": [],
   "source": [
    "# compile the model\n",
    "model.compile(optimizer= 'Adam',\n",
    "              loss='categorical_crossentropy',\n",
    "              metrics=['accuracy'])"
   ]
  },
  {
   "cell_type": "code",
   "execution_count": 11,
   "metadata": {},
   "outputs": [
    {
     "name": "stdout",
     "output_type": "stream",
     "text": [
      "Train on 51000 samples, validate on 9000 samples\n",
      "Epoch 1/10\n",
      "51000/51000 [==============================] - 420s 8ms/step - loss: 0.5210 - acc: 0.8117 - val_loss: 0.3310 - val_acc: 0.8821\n",
      "Epoch 2/10\n",
      "51000/51000 [==============================] - 428s 8ms/step - loss: 0.3725 - acc: 0.8636 - val_loss: 0.3031 - val_acc: 0.8908\n",
      "Epoch 3/10\n",
      "51000/51000 [==============================] - 414s 8ms/step - loss: 0.3361 - acc: 0.8770 - val_loss: 0.2811 - val_acc: 0.8953\n",
      "Epoch 4/10\n",
      "51000/51000 [==============================] - 435s 9ms/step - loss: 0.3167 - acc: 0.8838 - val_loss: 0.2578 - val_acc: 0.9043\n",
      "Epoch 5/10\n",
      "51000/51000 [==============================] - 433s 8ms/step - loss: 0.3026 - acc: 0.8871 - val_loss: 0.2616 - val_acc: 0.8991\n",
      "Epoch 6/10\n",
      "51000/51000 [==============================] - 436s 9ms/step - loss: 0.2927 - acc: 0.8936 - val_loss: 0.2803 - val_acc: 0.8963\n",
      "Epoch 7/10\n",
      "51000/51000 [==============================] - 432s 8ms/step - loss: 0.2845 - acc: 0.8942 - val_loss: 0.2495 - val_acc: 0.9074\n",
      "Epoch 8/10\n",
      "51000/51000 [==============================] - 370s 7ms/step - loss: 0.2785 - acc: 0.8970 - val_loss: 0.2472 - val_acc: 0.9114\n",
      "Epoch 9/10\n",
      "51000/51000 [==============================] - 381s 7ms/step - loss: 0.2775 - acc: 0.8975 - val_loss: 0.2470 - val_acc: 0.9118\n",
      "Epoch 10/10\n",
      "51000/51000 [==============================] - 364s 7ms/step - loss: 0.2648 - acc: 0.9017 - val_loss: 0.2310 - val_acc: 0.9134\n"
     ]
    }
   ],
   "source": [
    "training = model.fit(train_features, train_labels,\n",
    "                     validation_data=(validation_features, validation_labels),\n",
    "                     epochs=epochs,\n",
    "                     batch_size=batch_size, \n",
    "                     verbose=1)"
   ]
  },
  {
   "cell_type": "code",
   "execution_count": 12,
   "metadata": {},
   "outputs": [
    {
     "data": {
      "image/png": "[encoded data removed]",
      "text/plain": [
       "<Figure size 432x288 with 1 Axes>"
      ]
     },
     "metadata": {
      "needs_background": "light"
     },
     "output_type": "display_data"
    },
    {
     "data": {
      "image/png": "[encoded data removed]",
      "text/plain": [
       "<Figure size 432x288 with 1 Axes>"
      ]
     },
     "metadata": {
      "needs_background": "light"
     },
     "output_type": "display_data"
    }
   ],
   "source": [
    "# show the loss and accuracy\n",
    "loss = training.history['loss']\n",
    "val_loss = training.history['val_loss']\n",
    "acc = training.history['acc']\n",
    "val_acc = training.history['val_acc']\n",
    "\n",
    "# loss plot\n",
    "tra = plt.plot(loss)\n",
    "val = plt.plot(val_loss, 'r')\n",
    "plt.xlabel('Epochs')\n",
    "plt.ylabel('Loss')\n",
    "plt.title('Loss')\n",
    "plt.legend([\"Training\", \"Validation\"])\n",
    "\n",
    "plt.show()\n",
    "\n",
    "# accuracy plot\n",
    "plt.plot(acc)\n",
    "plt.plot(val_acc, 'r')\n",
    "plt.xlabel('Epochs')\n",
    "plt.ylabel('Accuracy')\n",
    "plt.title('Accuracy')\n",
    "plt.legend(['Training', 'Validation'], loc=4)\n",
    "plt.show()"
   ]
  },
  {
   "cell_type": "code",
   "execution_count": 13,
   "metadata": {},
   "outputs": [],
   "source": [
    "test_labels = y_test\n",
    "pred = model.predict(test_features)\n",
    "# convert predicions from categorical back to 0...9 digits\n",
    "pred_digits = np.argmax(pred, axis=1)"
   ]
  },
  {
   "cell_type": "code",
   "execution_count": 14,
   "metadata": {},
   "outputs": [
    {
     "data": {
      "text/plain": [
       "0.9099"
      ]
     },
     "execution_count": 14,
     "metadata": {},
     "output_type": "execute_result"
    }
   ],
   "source": [
    "accuracy_score(test_labels, pred_digits)"
   ]
  },
  {
   "cell_type": "code",
   "execution_count": null,
   "metadata": {},
   "outputs": [],
   "source": []
  }
 ],
 "metadata": {
  "accelerator": "GPU",
  "colab": {
   "collapsed_sections": [],
   "name": "mnist cnn.ipynb",
   "provenance": [],
   "version": "0.3.2"
  },
  "kernelspec": {
   "display_name": "Python 3",
   "language": "python",
   "name": "python3"
  },
  "language_info": {
   "codemirror_mode": {
    "name": "ipython",
    "version": 3
   },
   "file_extension": ".py",
   "mimetype": "text/x-python",
   "name": "python",
   "nbconvert_exporter": "python",
   "pygments_lexer": "ipython3",
   "version": "3.6.6"
  }
 },
 "nbformat": 4,
 "nbformat_minor": 1
}
