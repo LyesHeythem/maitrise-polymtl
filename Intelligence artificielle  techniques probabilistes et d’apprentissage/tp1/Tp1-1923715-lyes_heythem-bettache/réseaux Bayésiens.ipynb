{
 "cells": [
  {
   "cell_type": "markdown",
   "metadata": {},
   "source": [
    "Partie 1 : réseaux Bayésiens"
   ]
  },
  {
   "cell_type": "code",
   "execution_count": 1,
   "metadata": {},
   "outputs": [],
   "source": [
    "import numpy as np\n",
    "import matplotlib.pyplot as plt"
   ]
  },
  {
   "cell_type": "markdown",
   "metadata": {},
   "source": [
    "données"
   ]
  },
  {
   "cell_type": "code",
   "execution_count": 2,
   "metadata": {},
   "outputs": [
    {
     "name": "stdout",
     "output_type": "stream",
     "text": [
      "Pr(Pluie)=[0.8 0.2]\n",
      "\n",
      "Pr( Ar roseur )=[0.9 0.1]\n",
      "\n",
      "Pr(Watson | Pluie )=[[0.8 0.2]\n",
      " [0.  1. ]]\n",
      "\n",
      "Pr(Holmes | Pluie , arroseur )=[[[1.  0. ]\n",
      "  [0.1 0.9]]\n",
      "\n",
      " [[0.  1. ]\n",
      "  [0.  1. ]]]\n",
      "\n"
     ]
    },
    {
     "data": {
      "text/plain": [
       "array([0.9])"
      ]
     },
     "execution_count": 2,
     "metadata": {},
     "output_type": "execute_result"
    }
   ],
   "source": [
    "prob_pluie = np.array( [ 0.8 , 0.2 ] ).reshape( 2 , 1 , 1 , 1)\n",
    "print ( \"Pr(Pluie)={}\\n\" . format(np.squeeze(prob_pluie)))\n",
    "\n",
    "\n",
    "prob_arroseur = np.array( [ 0.9 , 0.1 ] ).reshape( 1 , 2 , 1 , 1)\n",
    "print( \"Pr( Ar roseur )={}\\n\" .format(np.squeeze( prob_arroseur ) ) )\n",
    "\n",
    "\n",
    "watson = np.array( [[ 0.8 , 0.2 ] , [ 0 , 1 ] ] ).reshape( 2 , 1 , 2 , 1)\n",
    "print( \"Pr(Watson | Pluie )={}\\n\" .format(np.squeeze( watson )))\n",
    "\n",
    "\n",
    "holmes = np.array( [[[ 1 , 0 ] , [ 0.1 , 0.9] ],[[ 0 , 1 ] , [ 0 , 1 ] ]] ).reshape( 2 , 2 , 1 , 2)\n",
    "#holmes = None # TODO\n",
    "print(\"Pr(Holmes | Pluie , arroseur )={}\\n\" .format(np.squeeze( holmes ) ) )\n",
    "\n",
    "\n",
    "watson [ 0 , : , 1 , : ] # prob watson moui l l e  -  non p l u i e\n",
    "( watson*prob_pluie ).sum( 0 ).squeeze( )[ 1 ] # prob gazon watson mouille\n",
    "\n",
    "holmes[ 0 , 1 , :, 1 ] # prob gazon holmes mouilles iarroseur non pluie"
   ]
  },
  {
   "cell_type": "markdown",
   "metadata": {},
   "source": [
    "partie a"
   ]
  },
  {
   "cell_type": "code",
   "execution_count": 3,
   "metadata": {},
   "outputs": [
    {
     "name": "stdout",
     "output_type": "stream",
     "text": [
      "Pr(Watson = 1) = 0.36000000000000004\n",
      "\n"
     ]
    }
   ],
   "source": [
    "# prob gazon watson mouille si pluie\n",
    "prob_conj_p_w = (watson * prob_pluie)  # prob conjointes de p, w\n",
    "watson_mouille = prob_conj_p_w.sum(0).squeeze()[1]  # prob gazon watson mouille\n",
    "print(\"Pr(Watson = 1) = {}\\n\".format(watson_mouille)) # reponse au numero 1. a)"
   ]
  },
  {
   "cell_type": "markdown",
   "metadata": {},
   "source": [
    "partie b"
   ]
  },
  {
   "cell_type": "code",
   "execution_count": 4,
   "metadata": {},
   "outputs": [],
   "source": [
    "#Pr(Holmes = 1)\n",
    "# prob gazon holmes mouille si arroseur − pluie\n",
    "prob_conj_p_a_h = (holmes * prob_pluie * prob_arroseur)  # prob conjointes de p, a, h\n",
    "holmes_mouille = prob_conj_p_a_h.sum(1).sum(0).squeeze()[1]  # prob gazon holmes mouille\n",
    "#print(\" Pr(Holmes = 1) = {}\\n\".format(holmes_mouille)) # reponse au numero 1. a)"
   ]
  },
  {
   "cell_type": "code",
   "execution_count": 5,
   "metadata": {},
   "outputs": [
    {
     "name": "stdout",
     "output_type": "stream",
     "text": [
      "b) Pr(W = 1/H = 1) = 0.788235294117647\n",
      "\n"
     ]
    }
   ],
   "source": [
    "#Pr(W = 1/H = 1)\n",
    "\n",
    "\n",
    "prob_conj_W_p_h_a= (watson * prob_pluie*holmes*prob_arroseur) # prob conjointes de w,p, a, h\n",
    "\n",
    "prob_watson_mouille_si_holmes=(prob_conj_W_p_h_a.sum(1).sum(0).squeeze()[1][1])/(holmes_mouille)\n",
    "print(\"b) Pr(W = 1/H = 1) = {}\\n\".format(prob_watson_mouille_si_holmes)) # reponse au numero 1. b)\n",
    "\n"
   ]
  },
  {
   "cell_type": "markdown",
   "metadata": {},
   "source": [
    "partie c"
   ]
  },
  {
   "cell_type": "code",
   "execution_count": 6,
   "metadata": {},
   "outputs": [
    {
     "name": "stdout",
     "output_type": "stream",
     "text": [
      "c) Pr(W = 1/H = 1,A = 0) = 0.025\n",
      "\n"
     ]
    }
   ],
   "source": [
    "#Pr(W = 1/H = 1,A = 0)\n",
    "prob_conj_w_p_h_a=(watson * prob_pluie*holmes*prob_arroseur) # prob conjointes de w,p, a, h\n",
    "pr=(prob_conj_w_p_h_a.sum(0))/(prob_conj_w_p_h_a.sum(0)).sum(2)\n",
    "prr=pr.squeeze()[1][1][0] #prob_watson_mouille_si_holmes et l’arroseur n’a pas fonctionné\n",
    "print(\"c) Pr(W = 1/H = 1,A = 0) = {}\\n\".format(prr))# reponse au numero 1. c)"
   ]
  },
  {
   "cell_type": "markdown",
   "metadata": {},
   "source": [
    "partie d"
   ]
  },
  {
   "cell_type": "code",
   "execution_count": 7,
   "metadata": {},
   "outputs": [
    {
     "name": "stdout",
     "output_type": "stream",
     "text": [
      "d) Pr(W = 1/A = 0) = 0.07111111111111111\n",
      "\n"
     ]
    }
   ],
   "source": [
    "#Pr(W = 1/A = 0)\n",
    "prob_conj_w_a22=(watson * prob_pluie*holmes*prob_arroseur).sum(3).sum(0)\n",
    "\n",
    "pr1=((prob_conj_w_a22)/((watson * prob_pluie*holmes*prob_arroseur).sum(3).sum(2).sum(0)))\n",
    "\n",
    "\n",
    "pr11=pr1.squeeze()[1][0] #prob_watson_mouille_si l’arroseur n’a pas fonctionné\n",
    "print(\"d) Pr(W = 1/A = 0) = {}\\n\".format(pr11))"
   ]
  },
  {
   "cell_type": "markdown",
   "metadata": {},
   "source": [
    "partie e  (dans l'énoncé on a déja la valeur de Pr(W = 1/P = 1))"
   ]
  },
  {
   "cell_type": "code",
   "execution_count": 8,
   "metadata": {},
   "outputs": [
    {
     "name": "stdout",
     "output_type": "stream",
     "text": [
      "e) Pr(W = 1/P = 1) = 1.0\n",
      "\n"
     ]
    }
   ],
   "source": [
    "prob_conj_p_w = (watson * prob_pluie*holmes*prob_arroseur).sum(3).sum(1)  # prob conjointes de p, w\n",
    "\n",
    "prwp=(prob_conj_p_w/(watson * prob_pluie*holmes*prob_arroseur).sum(3).sum(2).sum(1))\n",
    "\n",
    "prwp=prwp.squeeze()[1][1] #prob_watson_mouille_ sachant qu’il a plu\n",
    "print(\"e) Pr(W = 1/P = 1) = {}\\n\".format(prwp))"
   ]
  },
  {
   "cell_type": "code",
   "execution_count": null,
   "metadata": {},
   "outputs": [],
   "source": []
  }
 ],
 "metadata": {
  "kernelspec": {
   "display_name": "Python 3",
   "language": "python",
   "name": "python3"
  },
  "language_info": {
   "codemirror_mode": {
    "name": "ipython",
    "version": 3
   },
   "file_extension": ".py",
   "mimetype": "text/x-python",
   "name": "python",
   "nbconvert_exporter": "python",
   "pygments_lexer": "ipython3",
   "version": "3.6.6"
  }
 },
 "nbformat": 4,
 "nbformat_minor": 2
}
