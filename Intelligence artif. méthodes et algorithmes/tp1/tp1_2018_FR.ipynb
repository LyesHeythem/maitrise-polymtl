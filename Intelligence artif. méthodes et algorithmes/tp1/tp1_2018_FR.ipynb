{
 "cells": [
  {
   "cell_type": "markdown",
   "metadata": {
    "colab_type": "text",
    "id": "7cRcaduOsoAJ"
   },
   "source": [
    "# INF 8215 - Intelligence artif.: méthodes et algorithmes \n",
    "## Automne 2018 - TP1 - Méthodes de recherche \n",
    "### Membres de l'équipe\n",
    "    - Bettache Lyes Heythem  1923715\n",
    "    - Djemai Moohamed  1911666\n",
    "    - Melleh Brahim Redouane 1912555\n",
    "\n"
   ]
  },
  {
   "cell_type": "markdown",
   "metadata": {
    "colab_type": "text",
    "id": "GoJ5Y8SZsoAM"
   },
   "source": [
    "## LE VÉLO À MONTRÉAL\n",
    "Chaque année, Montréal accueille à peu près 10 millions de touristes. Soucieuse de la qualité de leur séjour, Tourisme Montréal a entamé un projet de développement d’une nouvelle application mobile afin d’assister les touristes lors de leurs déplacements dans la ville. Cette application a pour but d’aider l’utilisateur à planifier sa visite des importantes attractions de la ville, de la façon la plus efficace possible (ie, sur la durée la plus courte). Étant donné qu’il a été observé que le moyen de transport privilégié des touristes pour explorer Montréal est le vélo, cette application a pour but de générer des circuits cyclables de durée minimale. Plus précisément, étant donné une liste d’attractions munie de points de départ et d’arrivée, la tâche est de proposer, à chaque fois, un chemin qui passe par toutes les attractions indiquées une seule fois, qui débute au point de départ et qui s’achève au point d’arrivée et dont la durée de trajet est minimale.\n",
    "\n",
    "<img src=\"images/montreal.png\" alt=\"\" width=\"800\"/>\n",
    "\n",
    "Le travail demandé dans ce TP est de développer l’algorithme interne de l’application. Nous explorerons trois mécanismes de résolution différents :\n",
    "1. Définition et exploration naïve d’un arbre de recherche\n",
    "2. Exploration plus efficace en utilisant l’algorithme A*\n",
    "3. Optimisation locale en utilisant une métaheuristique de recherche à voisinage variable (Variable Neighborhood Search, VNS)\n",
    "\n",
    "## PRÉSENTATION DU PROBLÈME\n",
    "Une façon naturelle de représenter notre problème est d’utiliser un graphe $G=(V, A)$ dirigé et complet. Chaque sommet dans $V$ est une attraction donnée et chaque arc dans $A$ représente une piste cyclable entre deux attractions distinctes. Chaque paire de sommets $i$ et $j$ est reliée par une paire d’arcs $a_{ij}$ et $a_{ji}$ dont les poids respectifs $w(a_{ij})$ et $w(a_{ji})$ ne sont pas nécessairement égaux. Concrètement, ces poids représentent la durée du trajet d’un sommet à l’autre (ainsi, $w$ est telle que $w : A \\to\\mathbb R^+$).\n",
    "\n",
    "La liste des attractions à visiter est indiquée comme la suite $P = (p_1, ..., p_m)$ où $p_1$ et $p_m$ sont les sommets de départ et d’arrivée, respectivement.\n",
    "\n",
    "## 1. DÉFINITION ET EXPLORATION NAÏVE D’UN ARBRE DE RECHERCHE (5 points)\n",
    "Définissons un arbre de recherche $\\mathcal{T}$ où chaque nœud représente une solution partielle $S$. Soient $V(S) \\subseteq V$ et $A(S) \\subset A$ l’ensemble des sommets visités et l’ensemble des arêtes sélectionnées, respectivement. Ainsi, le coût d’une solution est donné par :\n",
    "$$g(S) = \\sum_{a \\in A(S)} w(a)$$\n",
    "\n",
    "Seule l’origine est visitée initialement. Ainsi, la racine de l’arbre de recherche contient une solution partielle vide $S_{\\textrm{root}}$ telle que $V(S_{\\textrm{root}})=\\{p_1\\}$ et $A(S_{\\textrm{root}}) = \\emptyset$.\n",
    "\n",
    "<img src=\"images/tree1.png\" alt=\"\" width=\"100\"/>\n",
    "\n",
    "À la suite de cela, les nœuds subséquents dans l’arbre sont tous créés en ajoutant, à chaque solution partielle $S$, un sommet subséquent dans $P\\backslash V(S)$ avec l’arc correspondant dans $A$ qui relie ce sommet à la dernière attraction visitée. Le sommet $p_m$ n’est ajouté qu’à la fin, lorsqu’il est le seul sommet non encore visité. Plus formellement, si on note le sommet à ajouter $c$ et le dernier sommet visité $c'$, alors la nouvelle solution partielle obtenue est $V(S) \\gets V(S) \\cup \\{c\\}$ et $A(S) \\gets A(S) \\cup \\{(c’,c)\\}$.\n",
    "\n",
    "Ci-dessous est un exemple de l’arbre étendu depuis sa racine où $c'$ = $p_1$ :\n",
    "\n",
    "<img src=\"images/tree2.png\" alt=\"\" width=\"400\"/>\n",
    "\n",
    "À la fin, les feuilles de l’arbre sont des solutions complètes :\n",
    "\n",
    "<img src=\"images/tree3.png\" alt=\"\" width=\"600\"/>\n",
    "\n",
    "### 1.1 Code\n",
    "La fonction fournie ci-dessous permet d’extraire d’un fichier un graphe qui répond aux spécifications détaillées plus haut. Cette fonction retourne une $\\texttt{ndarray}$ ($\\texttt{graph}$) de taille $|V|\\times |V|$ où $\\texttt{graph[i,j]}$ représente le temps nécessaire pour traverser la piste cyclable de $i$ vers $j$.\n",
    "\n"
   ]
  },
  {
   "cell_type": "code",
   "execution_count": 1,
   "metadata": {},
   "outputs": [],
   "source": [
    "import numpy as np\n",
    "\n",
    "def read_graph():\n",
    "    return np.loadtxt(\"montreal\", dtype='i', delimiter=',')\n",
    "\n",
    "graph = read_graph()"
   ]
  },
  {
   "cell_type": "markdown",
   "metadata": {},
   "source": [
    "Notre première tâche est de définir la classe qui représente une solution partielle. Son constructeur est donné et reçoit comme argument la liste des sommets (attractions $P$) à visiter et le graphe ($G$). Celui-ci crée la solution $S_{\\textrm{root}}$ avec les attributs suivants :\n",
    "- $\\texttt{g}$ : le coût de la solution partielle\n",
    "- $\\texttt{visited}$ : représente $V(S)$, discuté plus haut. Par définition, $\\mathtt{vistited[-1]}$ représente le dernier sommet ajouté, $ c $.\n",
    "- $\\texttt{not}\\_\\texttt{visited}$ : représente $P\\backslash V(S)$\n",
    "- $\\texttt{graph}$: représente le graphe G\n",
    "\n",
    "Ensuite, il est demandé d’implanter la méthode $\\texttt{add}$ qui mets à jour la solution partielle en ajoutant une nouvelle attraction à visiter parmi la liste $\\texttt{not}\\_\\texttt{visited}$. Cette méthode reçoit comme arguments l’index du sommet à visiter parmi $\\texttt{not}\\_\\texttt{visited}$.\n",
    "\n",
    "Implantez $\\texttt{add}$ :"
   ]
  },
  {
   "cell_type": "code",
   "execution_count": 2,
   "metadata": {},
   "outputs": [],
   "source": [
    "import copy\n",
    "\n",
    "class Solution:\n",
    "    def __init__(self, places, graph):\n",
    "        \"\"\"\n",
    "        places: a list containing the indices of attractions to visit\n",
    "        p1 = places[0]\n",
    "        pm = places[-1]\n",
    "        \"\"\"\n",
    "        self.g = 0 # current cost\n",
    "        self.graph = graph \n",
    "        self.visited = [places[0]] # list of already visited attractions\n",
    "        self.not_visited = copy.deepcopy(places[1:]) # list of attractions not yet visited\n",
    "        self.h=0\n",
    "        \n",
    "    def add(self, idx): \n",
    "        self.visited.append(self.not_visited[idx]) # mise à jour du vecteur visited\n",
    "        del(self.not_visited[idx])\n",
    "        self.g += self.graph[self.visited[len(self.visited)-2],self.visited[-1]] # mise à jour du coût\n",
    "        \n",
    "        \n",
    "    def swap(self,idx_i,idx_j):  # inversemenent de 2 places visités \n",
    "        temp = self.visited[idx_i]\n",
    "        self.visited[idx_i] =  self.visited[idx_j]\n",
    "        self.visited[idx_j] =  temp\n",
    "        self.g=0\n",
    "        for i in range(len(self.visited)-1):        # calcul le nouveau coût\n",
    "            self.g += self.graph[self.visited[i],self.visited[i+1]] \n",
    "            \n",
    "    def add_h(self,h1):\n",
    "        self.h=h1\n",
    "    \n",
    "    #la régle de comparison est la fonction f(n)=g(n)+h(n)\n",
    "    def __lt__(self, other): \n",
    "        return ((self.h + self.g) < (other.h + other.g) or ((self.h + self.g) == (other.h + other.g) and (self.g < other.g)))\n",
    "    "
   ]
  },
  {
   "cell_type": "markdown",
   "metadata": {},
   "source": [
    "La prochaine étape est d’implanter une stratégie de parcours de l’arbre de recherche. Une première méthode simple est naïve est de mettre en œuvre une recherche en largeur ([Breadth-first search](https://moodle.polymtl.ca/pluginfile.php/444662/mod_resource/content/1/recherche_en_largeur.mp4), BFS).\n",
    "\n",
    "Implantez $\\texttt{bfs}$ qui mets en œuvre cette recherche. Elle prend en arguments le graphe courant ainsi que la liste des attractions à visiter $P$ et elle retourne la meilleure solution trouvée."
   ]
  },
  {
   "cell_type": "code",
   "execution_count": 5,
   "metadata": {},
   "outputs": [],
   "source": [
    "from queue import Queue\n",
    "\n",
    "def bfs(graph, places):\n",
    "    S_root=Solution(places, graph)\n",
    "    Sfin=Solution(places, graph)\n",
    "    \n",
    "    Q=Queue()  \n",
    "    Q.put(S_root)\n",
    "    Smin=999999   # On prend coût optimale initiale égale à une trés grande valeur (l'infini) \n",
    "    while(not Q.empty()):\n",
    "        S=Q.get()  \n",
    "        V= copy.deepcopy(S.not_visited)\n",
    "        if len(V) == 1: \n",
    "            if (S.g+graph[S.visited[-1]][places[-1]])<Smin : # Si la solution trouvée est meilleure \n",
    "                Smin=S.g+graph[S.visited[-1]][places[-1]]\n",
    "                Sfin=copy.deepcopy(S) \n",
    "                Sfin.add((Sfin.not_visited).index(V[0]))\n",
    "        while(len(V)>1):    # parcourir tout les fils d'un noeud\n",
    "            S_n=copy.deepcopy(S)\n",
    "            S_n.add((S_n.not_visited).index(V[0]))\n",
    "            del(V[0])\n",
    "            Q.put(S_n)  # Ajouter les fils à gauche de la queue\n",
    "    return Sfin\n",
    "    \n"
   ]
  },
  {
   "cell_type": "markdown",
   "metadata": {},
   "source": [
    "### 1.2 Expérimentations\n",
    "\n",
    "On propose trois exemples d’illustration pour tester notre recherche en largeur. Le premier exemple prend en compte 7 attractions, le second 10 et le dernier 11. Vu que cette recherche énumère toutes les solutions possibles, le troisième exemple risque de prendre un temps considérable à s’achever.\n",
    "\n",
    "Mettez en œuvre ces expériences et notez le nombre de nœuds explorés ainsi que le temps de calcul requis."
   ]
  },
  {
   "cell_type": "code",
   "execution_count": 6,
   "metadata": {
    "colab": {},
    "colab_type": "code",
    "id": "H1lFkJPJBcR3"
   },
   "outputs": [
    {
     "name": "stdout",
     "output_type": "stream",
     "text": [
      "27\n",
      "--- 0.024077892303466797 seconds ---\n"
     ]
    }
   ],
   "source": [
    "import time \n",
    "\n",
    "#test 1  --------------  OPT. SOL. = 27\n",
    "start_time = time.time()\n",
    "places=[0, 5, 13, 16, 6, 9, 4]\n",
    "sol = bfs(graph=graph, places=places)\n",
    "print(sol.g)\n",
    "print(\"--- %s seconds ---\" % (time.time() - start_time))"
   ]
  },
  {
   "cell_type": "code",
   "execution_count": 7,
   "metadata": {
    "colab": {},
    "colab_type": "code",
    "id": "Yn9mUPhBB9hv"
   },
   "outputs": [
    {
     "name": "stdout",
     "output_type": "stream",
     "text": [
      "30\n",
      "--- 8.69938325881958 seconds ---\n"
     ]
    }
   ],
   "source": [
    "#test 2 -------------- OPT. SOL. = 30\n",
    "start_time = time.time()\n",
    "places=[0, 1, 4, 9, 20, 18, 16, 5, 13, 19]\n",
    "sol = bfs(graph=graph, places=places)\n",
    "print(sol.g)\n",
    "print(\"--- %s seconds ---\" % (time.time() - start_time))"
   ]
  },
  {
   "cell_type": "code",
   "execution_count": 9,
   "metadata": {},
   "outputs": [
    {
     "name": "stdout",
     "output_type": "stream",
     "text": [
      "26\n",
      "--- 79.92201614379883 seconds ---\n"
     ]
    }
   ],
   "source": [
    "#test 3 -------------- OPT. SOL. = 26\n",
    "start_time = time.time()\n",
    "places=[0, 2, 7, 13, 11, 16, 15, 7, 9, 8, 4]\n",
    "sol = bfs(graph=graph, places=places)\n",
    "print(sol.g)\n",
    "print(\"--- %s seconds ---\" % (time.time() - start_time))"
   ]
  },
  {
   "cell_type": "markdown",
   "metadata": {},
   "source": [
    "## 2. RECHERCHE GUIDÉE À L’AIDE DE L’ALGORITHME A\\* (7.5 points)\n",
    "Pour notre deuxième méthode de recherche, au lieu d’énumérer toutes les solutions possibles, nous effectuons une recherche guidée à l’aide de l’algorithme A\\*. Comme vu en classe, A\\* est une recherche où les nœuds à explorer sont priorisés en fonction du coût courant d’une solution $g(S)$ ainsi que d’une estimation du coût restant vers la solution finale donné par une heuristique $h(S)$.\n",
    "\n",
    "Dans le cas d’une minimisation, $h(S)$ est une borne inférieure du coût réel restant et on priorise l’exploration des nœuds dont $f(S) = g(S)+h(S)$ est le plus petit. Avec cette méthode, la première solution complète trouvée est assurément la solution optimale.\n",
    "\n",
    "Pour une solution donnée $S$ avec un dernier sommet visité $c$, une possible fonction $h$ est telle que :\n",
    "\n",
    "$h(S) =$ Le poids du chemin le plus court entre $c$ et $p_m$ dans le sous graphe $G_S$ contenant les sommets $P\\backslash V(S) \\cup \\{c\\}$\n",
    "\n",
    "Remarque que ce chemin le plus court utilisé dans le calcul de l’estimation $h$ entre l’attraction courante et l’arrivée ne passera pas nécessairement pas tous les sommets restants.\n",
    "\n",
    "\n",
    "Notre algorithme A\\* se présente comme ceci :\n",
    "1. Définir l’arbre de recherche $\\mathcal{T}$ exactement comme auparavant. Le calcul de $h$ pour la solution initiale est inutile : c’est la seule solution qu’on a.\n",
    "2. Sélectionner le meilleur nœud candidat pour expansion. La solution partielle $S_b$ de ce nœud candidat est telle que :\n",
    "\n",
    "   $$ f(S_b) \\leq f(S) \\quad \\forall S \\in \\mathcal{T} \\qquad S_B, S \\text{ pas encore sélectionnés}$$\n",
    "\n",
    "   Si $S_b$ est une solution complète, l’algorithme s’arrête et $S_b$ est assurément la solution optimale, sinon on continue à l’étape 3.\n",
    "3. Créer des solutions subséquentes qui connectent la dernière attraction visitée à chacune des attractions restantes. Attention, on ignore l’arrivée tant que celle-ci n’est pas la seule qui reste.\n",
    " - Mettez à jour les listes des sommets visités et non visités\n",
    " - Calculez $g$ et $h$ pour chaque solution\n",
    " - Insérer la nouvelle solution partielle dans l’arbre.\n",
    "4. Répéter 2 et 3.\n",
    "\n",
    "\n",
    "### 2.1 Code\n",
    "Commençons d’abord par compléter la classe $\\texttt{Solution}$ pour prendre en compte les changements nécessaires à A\\* (on a besoin notamment d’un attribut supplémentaire pour l’estimation $h$).\n",
    "\n",
    "On verra plus tard que A\\* s’implante à l’aide d’une file de priorité (priority queue). Pour que celle-ci marche, il est nécessaire de surcharger (overload) l’opérateur de comparaison « < » relatif à nos objets $\\texttt{Solution}$. En sachant ce qui fait qu'une solution est meilleure qu’une autre pour l'exploration, implanter la méthode $\\_\\_\\texttt{lt}\\_\\_$ dans $\\texttt{Solution}$. Son prototype est $\\_\\_\\texttt{lt}\\_\\_\\texttt{(self, other)}$.\n",
    "\n",
    "Maintenant, nous devons implanter la fonction d’estimation $h$. Pour cela, on utilise l’[algorithme de Dijkstra](https://en.wikipedia.org/wiki/Dijkstra%27s_algorithm) pour trouver le chemin le plus court entre la dernière attraction visitée $c$ et l’arrivée $p_m$. Il est possible d’adapter cet algorithme pour qu’il s’arrête dès que le chemin le plus court entre c et pm est trouvé.\n",
    "\n",
    "**Prescriptions d’implantation :**\n",
    "- Appliquer Dijkstra pour trouver le chemin le plus court entre $c$ et $p_m$\n",
    "- Retourner le poids de ce chemin"
   ]
  },
  {
   "cell_type": "code",
   "execution_count": 11,
   "metadata": {
    "colab": {},
    "colab_type": "code",
    "id": "PxRTHhZmNEOB"
   },
   "outputs": [],
   "source": [
    "#l'algorithme de Dijkstra retourne le cout du chemin\n",
    "#le plus court entre le noeud actuel et l'arrivé \n",
    "#La fonction prend chaque noeud et retourne son évaluation\n",
    "#heuristique    \n",
    "import heapq\n",
    "def fastest_path_estimation(sol):\n",
    "    c = sol.visited[-1]\n",
    "    pm = sol.not_visited[-1]\n",
    "\n",
    "    # search tree T\n",
    "    #On crée la queue a priorité heapq. \n",
    "    T1 = []\n",
    "    heapq.heapify(T1) \n",
    "    heapq.heappush(T1,(0, c)) #On ajoute l'élement actuel c à la queue.\n",
    "    V= copy.deepcopy(sol.not_visited)#on récupère les noeuds non-visités de la situation\n",
    "    \n",
    "    #On ajoute tous les noeuds non-visités à la queue de priorité.\n",
    "    while(len(V)>0):\n",
    "        heapq.heappush(T1,(999, V[0]))\n",
    "        del(V[0])\n",
    "        \n",
    "    while(len(T1)>0):\n",
    "        E=heapq.heappop(T1)\n",
    "        #Si on trouve le noeud d'arrivée, on arrête et on retourne le cout \n",
    "        if(E[1]==pm):\n",
    "            return E[0]\n",
    "        ordered = []\n",
    "        while T1:\n",
    "            ordered.append(heapq.heappop(T1))   \n",
    "        for t in ordered:\n",
    "            if(E[0]+graph[E[1]][t[1]]<= t[0]):# la mis à jour du cout de chaque noeud\n",
    "                heapq.heappush(T1,(E[0]+graph[E[1]][t[1]], t[1]))\n",
    "            else:\n",
    "                heapq.heappush(T1,(t[0], t[1]))   "
   ]
  },
  {
   "cell_type": "markdown",
   "metadata": {
    "colab_type": "text",
    "id": "9pjLMOpju-a9"
   },
   "source": [
    "Finalement, il est temps d’implanter A\\*. On aura besoin d’une file de priorité qui retournera toujours le meilleur nœud candidat de $\\mathcal{T}$ pour l’étendre (l’opérateur surchargé de comparaison assure cela).\n",
    "\n",
    "**Prescriptions d’implantation (cf. détail des étapes de l’algorithme plus haut) :**\n",
    "- Tant que les solutions extraites de la file de priorité ne sont pas complètes :\n",
    "  *\tSélectionner et étendre le nœud extrait de la file comme détaillé plus haut\n",
    "  * Calculer $g$ et $h$ pour chaque nouvelle solution partielle obtenue\n",
    "  * Remettre ces solutions dans la file\n",
    "- Retourner la première solution complète extraite de la file (c’est la solution optimale)"
   ]
  },
  {
   "cell_type": "code",
   "execution_count": 12,
   "metadata": {
    "colab": {},
    "colab_type": "code",
    "id": "D6e45uNMvanU"
   },
   "outputs": [],
   "source": [
    "#L'algorithme A* est basé sur la fonction heuristique f(n)=g(n)+h(n)\n",
    "#h(n) est calculé en utilisant l'algorithme précédent (dijkstra)\n",
    "import heapq\n",
    "\n",
    "def A_star(graph, places):\n",
    "    \n",
    "    root = Solution(graph=graph, places=places)\n",
    "    S_min = Solution(graph=graph, places=places)\n",
    "    T = []\n",
    "    heapq.heapify(T)\n",
    "    heapq.heappush(T,root)#on met le noeud de départ dans la queue a priorité\n",
    "    while  len(T)>0: #une boucle infinie la boucle s'arrête quand on trouve la solution complète\n",
    "        \n",
    "        S_min=heapq.heappop(T)#on récupère le noeud qui a la valeur de la fonction heuristique f(n) la plus petite\n",
    "        V= copy.deepcopy(S_min.not_visited)# les noeuds non-visités du noeud actuel (exploré)      \n",
    "        if len(V)==1:#si on arrive au dernier noeud on sort de la boucle\n",
    "            S_n=copy.deepcopy(S_min)\n",
    "            S_n.add(S_n.not_visited.index(V[0]))\n",
    "            break;\n",
    "        while len(V)>1 :# pour chaque on explore tous les fils et on les ajoute à la queue de priorité \n",
    "            S_n=copy.deepcopy(S_min)\n",
    "            S_n.add(S_n.not_visited.index(V[0]))\n",
    "            S_h=copy.deepcopy(S_n)\n",
    "            S_n.add_h(fastest_path_estimation(S_h))\n",
    "            del(V[0])\n",
    "            heapq.heappush(T, S_n)\n",
    "    return S_n #on retourne la solution complète \n"
   ]
  },
  {
   "cell_type": "markdown",
   "metadata": {
    "colab_type": "text",
    "id": "T2NhBa4GsoAP"
   },
   "source": [
    "### 2.2 Expérimentations\n",
    "\n",
    "On ajoute un Quatrième exemple d’exécution avec 15 attractions. Là encore, mettez en œuvre ces expériences avec le nouvel algorithme A\\* conçu et notez le nombre de nœuds explorés ainsi que le temps de calcul requis."
   ]
  },
  {
   "cell_type": "code",
   "execution_count": 13,
   "metadata": {
    "colab": {},
    "colab_type": "code",
    "id": "H1lFkJPJBcR3"
   },
   "outputs": [
    {
     "name": "stdout",
     "output_type": "stream",
     "text": [
      "27\n",
      "[0, 5, 13, 16, 6, 9, 4]\n",
      "--- 0.01722550392150879 seconds ---\n"
     ]
    }
   ],
   "source": [
    "#test 1  --------------  OPT. SOL. = 27\n",
    "start_time = time.time()\n",
    "places=[0, 5, 13, 16, 6, 9, 4]\n",
    "astar_sol = A_star(graph=graph, places=places)\n",
    "print(astar_sol.g)\n",
    "print(astar_sol.visited)\n",
    "print(\"--- %s seconds ---\" % (time.time() - start_time))"
   ]
  },
  {
   "cell_type": "code",
   "execution_count": 14,
   "metadata": {
    "colab": {},
    "colab_type": "code",
    "id": "Yn9mUPhBB9hv"
   },
   "outputs": [
    {
     "name": "stdout",
     "output_type": "stream",
     "text": [
      "30\n",
      "[0, 1, 4, 5, 9, 13, 16, 18, 20, 19]\n",
      "--- 0.1719522476196289 seconds ---\n"
     ]
    }
   ],
   "source": [
    "#test 2  --------------  OPT. SOL. = 30\n",
    "start_time = time.time()\n",
    "places=[0, 1, 4, 9, 20, 18, 16, 5, 13, 19]\n",
    "astar_sol = A_star(graph=graph, places=places)\n",
    "print(astar_sol.g)\n",
    "print(astar_sol.visited)\n",
    "print(\"--- %s seconds ---\" % (time.time() - start_time))"
   ]
  },
  {
   "cell_type": "code",
   "execution_count": 15,
   "metadata": {
    "colab": {},
    "colab_type": "code",
    "id": "ZX5SD5CRBfKg"
   },
   "outputs": [
    {
     "name": "stdout",
     "output_type": "stream",
     "text": [
      "26\n",
      "[0, 2, 7, 7, 9, 13, 15, 16, 11, 8, 4]\n",
      "--- 0.634465217590332 seconds ---\n"
     ]
    }
   ],
   "source": [
    "#test 3  --------------  OPT. SOL. = 26\n",
    "start_time = time.time()\n",
    "places=[0, 2, 7, 13, 11, 16, 15, 7, 9, 8, 4]\n",
    "astar_sol = A_star(graph=graph, places=places)\n",
    "print(astar_sol.g)\n",
    "print(astar_sol.visited)\n",
    "print(\"--- %s seconds ---\" % (time.time() - start_time))"
   ]
  },
  {
   "cell_type": "code",
   "execution_count": 16,
   "metadata": {},
   "outputs": [
    {
     "name": "stdout",
     "output_type": "stream",
     "text": [
      "40\n",
      "[0, 3, 13, 15, 18, 20, 16, 11, 12, 14, 9, 5, 4, 2, 1]\n",
      "--- 216.3756022453308 seconds ---\n"
     ]
    }
   ],
   "source": [
    "#test 4  --------------  OPT. SOL. = 40\n",
    "start_time = time.time()\n",
    "places=[0, 2, 20, 3, 18, 12, 13, 5, 11, 16, 15, 4, 9, 14, 1]\n",
    "astar_sol = A_star(graph=graph, places=places)\n",
    "print(astar_sol.g)\n",
    "print(astar_sol.visited)\n",
    "print(\"--- %s seconds ---\" % (time.time() - start_time))"
   ]
  },
  {
   "cell_type": "markdown",
   "metadata": {
    "colab_type": "text",
    "id": "r9oJnFHbxrvj"
   },
   "source": [
    "## 3. RECHERCHE LOCALE À VOISINAGE VARIABLE  (7.5 points)\n",
    "\n",
    "Cette fois-ci, au lieu de construire une solution optimale depuis une solution vide, on commence d’une solution complète, non-optimale, qu’on améliore à l’aide d’une recherche locale en utilisant une recherche locale à voisinage variable ([Variable Neighborhood Search](https://en.wikipedia.org/wiki/Variable_neighborhood_search), VNS).\n",
    "\n",
    "<img src=\"images/vns.png\" alt=\"\" width=\"800\"/>\n",
    "\n",
    "### 3.1 Code\n",
    "\n",
    "On commence par créer une solution initiale. Celle-ci est une suite ordonnée des attractions de $p_1$ à $p_m$ dans $P$. Pour cela, on fait appel à une [recherche en profondeur (Depth-First Search, DFS)](https://moodle.polymtl.ca/pluginfile.php/445484/mod_resource/content/1/recherche_en_profondeur.mp4) qu’on arrête aussitôt qu’une solution complète est trouvée. Pour aider à diversifier la recherche, la méthode permettant de générer une solution initiale peut être randomisée de telle sorte que l'algorithme VNS puisse lancer la recherche dans différentes régions de l'espace solution. Ainsi, dans la fonction DFS, la sélection de l'enfant pour continuer la recherche doit être aléatoire.\n",
    "\n",
    "**Prescriptions d’implantation :**\n",
    "- Mettre en œuvre une recherche en profondeur\n",
    "- Créer un objet $\\texttt{Solution}$ relatif à cette solution\n",
    "- Ajuster les attributs de cet objet avec les bonnes valeurs de coûts et d’attractions visitées\n",
    "- Retourner la solution trouvée."
   ]
  },
  {
   "cell_type": "code",
   "execution_count": 18,
   "metadata": {
    "colab": {},
    "colab_type": "code",
    "id": "JKx9Z-ayxzSw"
   },
   "outputs": [],
   "source": [
    "from random import shuffle, randint, sample\n",
    "from collections import deque\n",
    "\n",
    "def initial_sol(graph, places):\n",
    "    S_root=Solution(places, graph)\n",
    "    Sfin  =Solution(places, graph)\n",
    "    \n",
    "    Q=deque()\n",
    "    Q.appendleft(S_root)\n",
    "\n",
    "    while(Q.count):\n",
    "        S=Q.pop()\n",
    "        V= copy.deepcopy(S.not_visited)\n",
    "        if len(V) == 1:\n",
    "            Sfin=copy.deepcopy(S)\n",
    "            Sfin.add((Sfin.not_visited).index(V[0]))\n",
    "            return Sfin\n",
    "        while(len(V)>1):   # Parcourir tout les fils d'un noeud         \n",
    "            S_n=copy.deepcopy(S)\n",
    "            a = randint(0, (len(V)-2)) # Choisir un fils random à ajouter à la deque et pas forcément le premier à gauche \n",
    "            S_n.add((S_n.not_visited).index(V[a]))\n",
    "            del(V[a])\n",
    "            Q.append(S_n) \n",
    "    return Sfin\n",
    "\n",
    "#def dfs(...):\n",
    "#    \"\"\"\n",
    "#    Performs a Depth-First Search\n",
    "#    \"\"\""
   ]
  },
  {
   "cell_type": "markdown",
   "metadata": {
    "colab_type": "text",
    "id": "JnTFBFqvXpNz"
   },
   "source": [
    "Pour définir une VNS, il faut définir les $k_\\textrm{max}$ voisinages de recherche locale possibles. Pour notre problème, une bonne et simple répartition des voisinages est telle qu’un voisinage $k$ correspond à la permutation de $k$-paires de sommets dans $V(S)$.\n",
    "\n",
    "On appelle **shaking** l’étape de génération d’une solution dans le voisinage $k$. Le travail qui suit correspond à l’implantation de cette étape. $\\texttt{shaking}$ admet 3 arguments que sont la solution de départ, l’indice du voisinage $k$ ainsi que le graph courant.\n",
    "\n",
    "Attention, avant d’implanter $\\texttt{shaking}$, il est nécessaire de créer une méthode $\\texttt{swap}$ dans la classe $\\texttt{Solution}$. Cette méthode permet de mettre en œuvre la permutation dans une solution donnée (en mettant à jour tous les attributs nécessaires pour que la solution soit cohérente).\n",
    "\n",
    "**Prescriptions d’implantation de shaking :**\n",
    "- Sélectionner au hasard deux indices $i$ et $j$ différents et tels que $i, j \\in \\{2,...,m-1\\}$\n",
    "- Faire une copie de la solution courante et faire la permutation\n",
    "- Retourner la solution créée"
   ]
  },
  {
   "cell_type": "code",
   "execution_count": 19,
   "metadata": {
    "colab": {},
    "colab_type": "code",
    "id": "EWLAhZUlfFOZ"
   },
   "outputs": [],
   "source": [
    "import random\n",
    "def shaking(sol,k, graph):\n",
    "    sol_tmp = copy.deepcopy(sol)\n",
    "    v=[]\n",
    "    for i in range(1,len(sol.visited)-1): #ne pas prednre en considération le départ et l'arrivé car on ne peut pas les permuter\n",
    "        v.append(i) # le vecteur v contient les indices des places visitées\n",
    "    for i in range(k):  # Faire k permutations \n",
    "        if len(v)==0:\n",
    "            return sol_tmp\n",
    "        idxi=random.sample(v,1)\n",
    "        idxi = idxi[0]\n",
    "        \n",
    "        while(1):\n",
    "            idxj=sample(v,1)\n",
    "            idxj = idxj[0]\n",
    "            if idxj!=idxi: # Assurer qu'il y a une permutation (i=/=j)\n",
    "                break\n",
    "        sol_tmp.swap(idxi,idxj)\n",
    "    return sol_tmp"
   ]
  },
  {
   "cell_type": "markdown",
   "metadata": {
    "colab_type": "text",
    "id": "PD_PxV54sl1o"
   },
   "source": [
    "Une dernière étape essentielle dans une VNS est l’application d’un algorithme de recherche locale à la solution issue du shaking. Pour cela, on propose la recherche locale 2-opt. Celle-ci intervertit deux arcs dans la solution, à la recherche d’une qui est meilleure.\n",
    "\n",
    "Pour un sommet $ i $, soit $ i '$ le successeur immédiat de $ i $ dans la séquence $ V (S) $. L'algorithme 2-opt fonctionne comme suit: pour chaque paire de sommets non consécutifs $ i, j $, vérifiez si en échangeant la position des sommets $ i '$ et $ j $ entraîne une amélioration du coût de la solution. Si oui, effectuez cet échange. Ce processus se répète jusqu'à ce qu'il n'y ait plus d'échanges rentables. On réalise cette opération pour toutes les paires d’arcs éligibles à la recherche du plus petit coût.\n",
    "\n",
    "<img src=\"images/2opt.png\" alt=\"\" width=\"800\"/>\n",
    "\n",
    "<img src=\"images/2opt2.png\" alt=\"\" width=\"800\"/>\n",
    "\n",
    "\n",
    "Implantez $\\texttt{local}\\_\\texttt{search}\\_\\texttt{2opt}$. \n",
    "\n",
    "**Prescriptions d’implantation :**\n",
    "- Considérer chaque paire d’indices $i = \\{2,..,m-3\\}$ and $j = \\{i+2, m-1\\}$\n",
    "- Si l’échange donne un plus bas coût, on le réalise\n",
    "- Répéter jusqu’à optimum local."
   ]
  },
  {
   "cell_type": "code",
   "execution_count": 20,
   "metadata": {
    "colab": {},
    "colab_type": "code",
    "id": "_97d-BQV8tzt"
   },
   "outputs": [],
   "source": [
    "# l'algorithme 2opt prend une solution initial et fait la parmitation jusque à qu'on trouve la meilleure\n",
    "# solution avec le plus petit coût.\n",
    "def local_search_2opt(sol):\n",
    "\n",
    "    solution_tmp=copy.deepcopy(sol)\n",
    "    solution_fin = copy.deepcopy(sol)\n",
    "    \n",
    "    for i in range(0,(len(sol.visited)-2)):  # Parcourir tout les noeuds\n",
    "        \n",
    "        for j in range(i+2,(len(sol.visited)-1)):    \n",
    "            \n",
    "            solution_tmp.swap(i+1,j)\n",
    "            if solution_tmp.g<solution_fin.g : # if la solution trouvée est meilleure \n",
    "                solution_fin=copy.deepcopy(solution_tmp)   \n",
    "\n",
    "    return solution_fin"
   ]
  },
  {
   "cell_type": "markdown",
   "metadata": {
    "colab_type": "text",
    "id": "ZPG90m1g_HgA"
   },
   "source": [
    "Finalement, il est temps d'implanter notre VNS. La méthode $\\texttt{vns}$ reçoit une solution complète, le graphe courant, le nombre maximal de voisinages et un temps de calcul limite. Celle-ci retourne la solution optimale trouvée\n",
    "\n",
    "**Prescriptions d’implantation :**\n",
    "- À chaque itération, la VNS génère une solution dans le k-ème voisinage (shaking) à partir de la meilleure solution courante et applique une recherche locale 2-opt dessus\n",
    "- Si la nouvelle solution trouvée a un meilleur coût, mettre à jour la meilleure solution courante\n",
    "- Répéter le processus jusqu'à $\\texttt{t}\\_\\texttt{max}$"
   ]
  },
  {
   "cell_type": "code",
   "execution_count": 21,
   "metadata": {
    "colab": {},
    "colab_type": "code",
    "id": "ZQwCN2HB_m-q"
   },
   "outputs": [],
   "source": [
    "def vns(sol, k_max, t_max):\n",
    "    start_time = time.time()\n",
    "    solution=copy.deepcopy(sol)\n",
    "    \n",
    "    while((time.time() - start_time)<=t_max): # tanque le temps n'est pas terminé\n",
    "        k=1\n",
    "        while(k<=k_max): # tant que le voisinage actuel est inférieur au voisinage K_max\n",
    "            solu=shaking(sol=solution,k=k,graph=graph) # générer une solution aléatoire \n",
    "            solopt=local_search_2opt(sol=solu) # Trouver la meilleur solution dans un voisinage k\n",
    "            \n",
    "            if solopt.g<solution.g : # Si la solution optimale trouvé est meilleure on la sauvegarde \n",
    "                solution=copy.deepcopy(solopt)\n",
    "                k=1\n",
    "            else:\n",
    "                k=k+1  # Augmenter le voisinage \n",
    "    return solution"
   ]
  },
  {
   "cell_type": "markdown",
   "metadata": {
    "colab_type": "text",
    "id": "z5TPMN2XCkPc"
   },
   "source": [
    "### 3.2 Experiments\n",
    "\n",
    "Mettez en oeuvre la VNS sur les exemples d'illustration suivants et raportez les solutions obtenue:"
   ]
  },
  {
   "cell_type": "code",
   "execution_count": 22,
   "metadata": {
    "colab": {},
    "colab_type": "code",
    "id": "Ox0PScj5CTzq"
   },
   "outputs": [
    {
     "name": "stdout",
     "output_type": "stream",
     "text": [
      "27\n",
      "[0, 5, 13, 16, 6, 9, 4]\n",
      "--- 1.0017898082733154 seconds ---\n"
     ]
    }
   ],
   "source": [
    "# test 1  --------------  OPT. SOL. = 27\n",
    "places=[0, 5, 13, 16, 6, 9, 4]\n",
    "sol = initial_sol(graph=graph, places=places)\n",
    "start_time = time.time()\n",
    "vns_sol = vns(sol=sol, k_max=10, t_max=1)\n",
    "print(vns_sol.g)\n",
    "print(vns_sol.visited)\n",
    "print(\"--- %s seconds ---\" % (time.time() - start_time))"
   ]
  },
  {
   "cell_type": "code",
   "execution_count": 23,
   "metadata": {
    "colab": {},
    "colab_type": "code",
    "id": "a5IB2FbqCTz3"
   },
   "outputs": [
    {
     "name": "stdout",
     "output_type": "stream",
     "text": [
      "30\n",
      "[0, 1, 4, 5, 9, 13, 16, 18, 20, 19]\n",
      "--- 1.0048599243164062 seconds ---\n"
     ]
    }
   ],
   "source": [
    "#test 2  --------------  OPT. SOL. = 30\n",
    "places=[0, 1, 4, 9, 20, 18, 16, 5, 13, 19]\n",
    "sol = initial_sol(graph=graph, places=places)\n",
    "\n",
    "start_time = time.time()\n",
    "vns_sol = vns(sol=sol, k_max=10, t_max=1)\n",
    "print(vns_sol.g)\n",
    "print(vns_sol.visited)\n",
    "\n",
    "print(\"--- %s seconds ---\" % (time.time() - start_time))"
   ]
  },
  {
   "cell_type": "code",
   "execution_count": 24,
   "metadata": {
    "colab": {},
    "colab_type": "code",
    "id": "nkNwTmxPCTz9"
   },
   "outputs": [
    {
     "name": "stdout",
     "output_type": "stream",
     "text": [
      "27\n",
      "[0, 2, 7, 7, 8, 15, 13, 16, 11, 9, 4]\n",
      "--- 1.0033411979675293 seconds ---\n"
     ]
    }
   ],
   "source": [
    "# test 3  --------------  OPT. SOL. = 26\n",
    "places=[0, 2, 7, 13, 11, 16, 15, 7, 9, 8, 4]\n",
    "sol = initial_sol(graph=graph, places=places)\n",
    "\n",
    "start_time = time.time()\n",
    "vns_sol = vns(sol=sol, k_max=10, t_max=1)\n",
    "print(vns_sol.g)\n",
    "print(vns_sol.visited)\n",
    "print(\"--- %s seconds ---\" % (time.time() - start_time))"
   ]
  },
  {
   "cell_type": "code",
   "execution_count": 25,
   "metadata": {},
   "outputs": [
    {
     "name": "stdout",
     "output_type": "stream",
     "text": [
      "42\n",
      "[0, 3, 9, 12, 13, 14, 11, 16, 20, 18, 15, 5, 4, 2, 1]\n",
      "--- 1.0009653568267822 seconds ---\n"
     ]
    }
   ],
   "source": [
    "# test 4  --------------  OPT. SOL. = 40\n",
    "places=[0, 2, 20, 3, 18, 12, 13, 5, 11, 16, 15, 4, 9, 14, 1]\n",
    "sol = initial_sol(graph=graph, places=places)\n",
    "\n",
    "start_time = time.time()\n",
    "vns_sol = vns(sol=sol, k_max=10, t_max=1)\n",
    "print(vns_sol.g)\n",
    "print(vns_sol.visited)\n",
    "print(\"--- %s seconds ---\" % (time.time() - start_time))\n",
    "\n",
    "# On remarque que dans cette exemple et l'exemple précédent (test 3 et test 4) que le temps de l'execution jeu un rôle important\n",
    "# Quand on execute l'exemple avec un temps t_max = 1s on trouve pas forcément la meilleure solution.\n",
    "# Par contre lorsque quand on augmente le temps = 100s on trouve la meilleure solution optimale (OPT. SOL. = 40)\n",
    "# La solution optimale trouvée dépend aussi de la solution initiale acev laquelle on commence (qui est aléatoire ici),\n",
    "# et dépend aussi du nombre de places à visiter \n"
   ]
  },
  {
   "cell_type": "markdown",
   "metadata": {},
   "source": [
    "## 4. BONUS (1 point)\n",
    "\n",
    "Expliquez dans quelle situation chacun des algorithmes développés est plus approprié (prenez en compte l’évolutivité du problème)"
   ]
  },
  {
   "cell_type": "markdown",
   "metadata": {},
   "source": [
    "- VNS est approprié pour les grands arbres. Il présente un compromis entre solution de haute qualité et faible temps de calcul.\n",
    "- On utilise le premier algorithme (BFS), pour trouver tout les solution existants et prendre par la suite la solution optimale, ce type d'algorithme est préférable dans le cas des problèmes simples avec peu de noeuds. \n",
    "- L'algorithme A* est une meilleure approche car il utilise une méthode heurisitc pour mieux choisir le prochain mouvement et limiter le nombre de nœuds à visiter. Dans le cas ou on n'as pas la fonction heuristique h(n), l'algorithme A* est equivalent à l'algorithme de recherche en largeur. l'algorithme A* peut etre transformé en d'autres algorithmes de recherche en jouant sur la focon dont il evalue les noeuds et les fonctions heuriatiques. \n",
    "- On utilise l'algorithme de recherche locale dans le cas de manque de modélisation mathématiques (chaque cas est différent : il faut adapter la recherche à chaque problème particulier).\n"
   ]
  },
  {
   "cell_type": "markdown",
   "metadata": {},
   "source": [
    "## 5 Date de remise\n",
    "Tout devra être remis avant le 6 Octobre à 23h55. Tout travail en retard sera pénalisé d'une valeur de 10% par jour de retard."
   ]
  },
  {
   "cell_type": "code",
   "execution_count": null,
   "metadata": {},
   "outputs": [],
   "source": []
  }
 ],
 "metadata": {
  "colab": {
   "name": "tp1_2018.ipynb",
   "provenance": [],
   "version": "0.3.2"
  },
  "kernelspec": {
   "display_name": "Python 3",
   "language": "python",
   "name": "python3"
  },
  "language_info": {
   "codemirror_mode": {
    "name": "ipython",
    "version": 3
   },
   "file_extension": ".py",
   "mimetype": "text/x-python",
   "name": "python",
   "nbconvert_exporter": "python",
   "pygments_lexer": "ipython3",
   "version": "3.6.6"
  }
 },
 "nbformat": 4,
 "nbformat_minor": 1
}
